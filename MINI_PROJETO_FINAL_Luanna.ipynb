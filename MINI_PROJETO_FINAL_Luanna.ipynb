{
  "nbformat": 4,
  "nbformat_minor": 0,
  "metadata": {
    "colab": {
      "name": "MINI-PROJETO-FINAL_Luanna.ipynb",
      "provenance": [],
      "collapsed_sections": [],
      "mount_file_id": "10uUG6t3yWspvU3qrOZKOOtzifY2yNP6b",
      "authorship_tag": "ABX9TyN59IVTr7vrPLaYogaQnwOp",
      "include_colab_link": true
    },
    "kernelspec": {
      "name": "python3",
      "display_name": "Python 3"
    },
    "language_info": {
      "name": "python"
    }
  },
  "cells": [
    {
      "cell_type": "markdown",
      "metadata": {
        "id": "view-in-github",
        "colab_type": "text"
      },
      "source": [
        "<a href=\"https://colab.research.google.com/github/luannapm/miniprojeto_SoulCode/blob/main/MINI_PROJETO_FINAL_Luanna.ipynb\" target=\"_parent\"><img src=\"https://colab.research.google.com/assets/colab-badge.svg\" alt=\"Open In Colab\"/></a>"
      ]
    },
    {
      "cell_type": "code",
      "metadata": {
        "colab": {
          "base_uri": "https://localhost:8080/"
        },
        "id": "Ruyrsmr5m_Y9",
        "outputId": "10f93928-10b7-470c-b01e-584fff1aff49"
      },
      "source": [
        "pip install pandera\n"
      ],
      "execution_count": null,
      "outputs": [
        {
          "output_type": "stream",
          "name": "stdout",
          "text": [
            "Requirement already satisfied: pandera in /usr/local/lib/python3.7/dist-packages (0.7.2)\n",
            "Requirement already satisfied: typing-extensions>=3.7.4.3 in /usr/local/lib/python3.7/dist-packages (from pandera) (3.7.4.3)\n",
            "Requirement already satisfied: pyarrow in /usr/local/lib/python3.7/dist-packages (from pandera) (3.0.0)\n",
            "Requirement already satisfied: wrapt in /usr/local/lib/python3.7/dist-packages (from pandera) (1.12.1)\n",
            "Requirement already satisfied: pandas>=1.0 in /usr/local/lib/python3.7/dist-packages (from pandera) (1.1.5)\n",
            "Requirement already satisfied: typing-inspect>=0.6.0 in /usr/local/lib/python3.7/dist-packages (from pandera) (0.7.1)\n",
            "Requirement already satisfied: numpy>=1.9.0 in /usr/local/lib/python3.7/dist-packages (from pandera) (1.19.5)\n",
            "Requirement already satisfied: packaging>=20.0 in /usr/local/lib/python3.7/dist-packages (from pandera) (21.0)\n",
            "Requirement already satisfied: pyparsing>=2.0.2 in /usr/local/lib/python3.7/dist-packages (from packaging>=20.0->pandera) (2.4.7)\n",
            "Requirement already satisfied: python-dateutil>=2.7.3 in /usr/local/lib/python3.7/dist-packages (from pandas>=1.0->pandera) (2.8.2)\n",
            "Requirement already satisfied: pytz>=2017.2 in /usr/local/lib/python3.7/dist-packages (from pandas>=1.0->pandera) (2018.9)\n",
            "Requirement already satisfied: six>=1.5 in /usr/local/lib/python3.7/dist-packages (from python-dateutil>=2.7.3->pandas>=1.0->pandera) (1.15.0)\n",
            "Requirement already satisfied: mypy-extensions>=0.3.0 in /usr/local/lib/python3.7/dist-packages (from typing-inspect>=0.6.0->pandera) (0.4.3)\n"
          ]
        }
      ]
    },
    {
      "cell_type": "markdown",
      "metadata": {
        "id": "nVApsvuGpQ3d"
      },
      "source": [
        "IMPORTAÇÃO DAS BIBLIOTECAS"
      ]
    },
    {
      "cell_type": "code",
      "metadata": {
        "id": "0nJ1_6slpDEM"
      },
      "source": [
        "import pandas as pd\n",
        "import pandera as pa"
      ],
      "execution_count": null,
      "outputs": []
    },
    {
      "cell_type": "markdown",
      "metadata": {
        "id": "0VwdU1ElpXhs"
      },
      "source": [
        "EXTRAÇÃO DOS DADOS "
      ]
    },
    {
      "cell_type": "code",
      "metadata": {
        "colab": {
          "base_uri": "https://localhost:8080/",
          "height": 434
        },
        "id": "R8dA6YVapYHE",
        "outputId": "e0056d74-f322-466f-e39e-deff021ff175"
      },
      "source": [
        "df = pd.read_csv('/content/drive/MyDrive/dados/marketing_campaign.csv', sep='\\t', parse_dates=['Dt_Customer'], dayfirst=True)\n",
        "df"
      ],
      "execution_count": null,
      "outputs": [
        {
          "output_type": "execute_result",
          "data": {
            "text/html": [
              "<div>\n",
              "<style scoped>\n",
              "    .dataframe tbody tr th:only-of-type {\n",
              "        vertical-align: middle;\n",
              "    }\n",
              "\n",
              "    .dataframe tbody tr th {\n",
              "        vertical-align: top;\n",
              "    }\n",
              "\n",
              "    .dataframe thead th {\n",
              "        text-align: right;\n",
              "    }\n",
              "</style>\n",
              "<table border=\"1\" class=\"dataframe\">\n",
              "  <thead>\n",
              "    <tr style=\"text-align: right;\">\n",
              "      <th></th>\n",
              "      <th>ID</th>\n",
              "      <th>Year_Birth</th>\n",
              "      <th>Education</th>\n",
              "      <th>Marital_Status</th>\n",
              "      <th>Income</th>\n",
              "      <th>Kidhome</th>\n",
              "      <th>Teenhome</th>\n",
              "      <th>Dt_Customer</th>\n",
              "      <th>Recency</th>\n",
              "      <th>MntWines</th>\n",
              "      <th>MntFruits</th>\n",
              "      <th>MntMeatProducts</th>\n",
              "      <th>MntFishProducts</th>\n",
              "      <th>MntSweetProducts</th>\n",
              "      <th>MntGoldProds</th>\n",
              "      <th>NumDealsPurchases</th>\n",
              "      <th>NumWebPurchases</th>\n",
              "      <th>NumCatalogPurchases</th>\n",
              "      <th>NumStorePurchases</th>\n",
              "      <th>NumWebVisitsMonth</th>\n",
              "      <th>AcceptedCmp3</th>\n",
              "      <th>AcceptedCmp4</th>\n",
              "      <th>AcceptedCmp5</th>\n",
              "      <th>AcceptedCmp1</th>\n",
              "      <th>AcceptedCmp2</th>\n",
              "      <th>Complain</th>\n",
              "      <th>Z_CostContact</th>\n",
              "      <th>Z_Revenue</th>\n",
              "      <th>Response</th>\n",
              "    </tr>\n",
              "  </thead>\n",
              "  <tbody>\n",
              "    <tr>\n",
              "      <th>0</th>\n",
              "      <td>5524</td>\n",
              "      <td>1957</td>\n",
              "      <td>Graduation</td>\n",
              "      <td>Single</td>\n",
              "      <td>58138.0</td>\n",
              "      <td>0</td>\n",
              "      <td>0</td>\n",
              "      <td>2012-09-04</td>\n",
              "      <td>58</td>\n",
              "      <td>635</td>\n",
              "      <td>88</td>\n",
              "      <td>546</td>\n",
              "      <td>172</td>\n",
              "      <td>88</td>\n",
              "      <td>88</td>\n",
              "      <td>3</td>\n",
              "      <td>8</td>\n",
              "      <td>10</td>\n",
              "      <td>4</td>\n",
              "      <td>7</td>\n",
              "      <td>0</td>\n",
              "      <td>0</td>\n",
              "      <td>0</td>\n",
              "      <td>0</td>\n",
              "      <td>0</td>\n",
              "      <td>0</td>\n",
              "      <td>3</td>\n",
              "      <td>11</td>\n",
              "      <td>1</td>\n",
              "    </tr>\n",
              "    <tr>\n",
              "      <th>1</th>\n",
              "      <td>2174</td>\n",
              "      <td>1954</td>\n",
              "      <td>Graduation</td>\n",
              "      <td>Single</td>\n",
              "      <td>46344.0</td>\n",
              "      <td>1</td>\n",
              "      <td>1</td>\n",
              "      <td>2014-03-08</td>\n",
              "      <td>38</td>\n",
              "      <td>11</td>\n",
              "      <td>1</td>\n",
              "      <td>6</td>\n",
              "      <td>2</td>\n",
              "      <td>1</td>\n",
              "      <td>6</td>\n",
              "      <td>2</td>\n",
              "      <td>1</td>\n",
              "      <td>1</td>\n",
              "      <td>2</td>\n",
              "      <td>5</td>\n",
              "      <td>0</td>\n",
              "      <td>0</td>\n",
              "      <td>0</td>\n",
              "      <td>0</td>\n",
              "      <td>0</td>\n",
              "      <td>0</td>\n",
              "      <td>3</td>\n",
              "      <td>11</td>\n",
              "      <td>0</td>\n",
              "    </tr>\n",
              "    <tr>\n",
              "      <th>2</th>\n",
              "      <td>4141</td>\n",
              "      <td>1965</td>\n",
              "      <td>Graduation</td>\n",
              "      <td>Together</td>\n",
              "      <td>71613.0</td>\n",
              "      <td>0</td>\n",
              "      <td>0</td>\n",
              "      <td>2013-08-21</td>\n",
              "      <td>26</td>\n",
              "      <td>426</td>\n",
              "      <td>49</td>\n",
              "      <td>127</td>\n",
              "      <td>111</td>\n",
              "      <td>21</td>\n",
              "      <td>42</td>\n",
              "      <td>1</td>\n",
              "      <td>8</td>\n",
              "      <td>2</td>\n",
              "      <td>10</td>\n",
              "      <td>4</td>\n",
              "      <td>0</td>\n",
              "      <td>0</td>\n",
              "      <td>0</td>\n",
              "      <td>0</td>\n",
              "      <td>0</td>\n",
              "      <td>0</td>\n",
              "      <td>3</td>\n",
              "      <td>11</td>\n",
              "      <td>0</td>\n",
              "    </tr>\n",
              "    <tr>\n",
              "      <th>3</th>\n",
              "      <td>6182</td>\n",
              "      <td>1984</td>\n",
              "      <td>Graduation</td>\n",
              "      <td>Together</td>\n",
              "      <td>26646.0</td>\n",
              "      <td>1</td>\n",
              "      <td>0</td>\n",
              "      <td>2014-02-10</td>\n",
              "      <td>26</td>\n",
              "      <td>11</td>\n",
              "      <td>4</td>\n",
              "      <td>20</td>\n",
              "      <td>10</td>\n",
              "      <td>3</td>\n",
              "      <td>5</td>\n",
              "      <td>2</td>\n",
              "      <td>2</td>\n",
              "      <td>0</td>\n",
              "      <td>4</td>\n",
              "      <td>6</td>\n",
              "      <td>0</td>\n",
              "      <td>0</td>\n",
              "      <td>0</td>\n",
              "      <td>0</td>\n",
              "      <td>0</td>\n",
              "      <td>0</td>\n",
              "      <td>3</td>\n",
              "      <td>11</td>\n",
              "      <td>0</td>\n",
              "    </tr>\n",
              "    <tr>\n",
              "      <th>4</th>\n",
              "      <td>5324</td>\n",
              "      <td>1981</td>\n",
              "      <td>PhD</td>\n",
              "      <td>Married</td>\n",
              "      <td>58293.0</td>\n",
              "      <td>1</td>\n",
              "      <td>0</td>\n",
              "      <td>2014-01-19</td>\n",
              "      <td>94</td>\n",
              "      <td>173</td>\n",
              "      <td>43</td>\n",
              "      <td>118</td>\n",
              "      <td>46</td>\n",
              "      <td>27</td>\n",
              "      <td>15</td>\n",
              "      <td>5</td>\n",
              "      <td>5</td>\n",
              "      <td>3</td>\n",
              "      <td>6</td>\n",
              "      <td>5</td>\n",
              "      <td>0</td>\n",
              "      <td>0</td>\n",
              "      <td>0</td>\n",
              "      <td>0</td>\n",
              "      <td>0</td>\n",
              "      <td>0</td>\n",
              "      <td>3</td>\n",
              "      <td>11</td>\n",
              "      <td>0</td>\n",
              "    </tr>\n",
              "    <tr>\n",
              "      <th>...</th>\n",
              "      <td>...</td>\n",
              "      <td>...</td>\n",
              "      <td>...</td>\n",
              "      <td>...</td>\n",
              "      <td>...</td>\n",
              "      <td>...</td>\n",
              "      <td>...</td>\n",
              "      <td>...</td>\n",
              "      <td>...</td>\n",
              "      <td>...</td>\n",
              "      <td>...</td>\n",
              "      <td>...</td>\n",
              "      <td>...</td>\n",
              "      <td>...</td>\n",
              "      <td>...</td>\n",
              "      <td>...</td>\n",
              "      <td>...</td>\n",
              "      <td>...</td>\n",
              "      <td>...</td>\n",
              "      <td>...</td>\n",
              "      <td>...</td>\n",
              "      <td>...</td>\n",
              "      <td>...</td>\n",
              "      <td>...</td>\n",
              "      <td>...</td>\n",
              "      <td>...</td>\n",
              "      <td>...</td>\n",
              "      <td>...</td>\n",
              "      <td>...</td>\n",
              "    </tr>\n",
              "    <tr>\n",
              "      <th>2235</th>\n",
              "      <td>10870</td>\n",
              "      <td>1967</td>\n",
              "      <td>Graduation</td>\n",
              "      <td>Married</td>\n",
              "      <td>61223.0</td>\n",
              "      <td>0</td>\n",
              "      <td>1</td>\n",
              "      <td>2013-06-13</td>\n",
              "      <td>46</td>\n",
              "      <td>709</td>\n",
              "      <td>43</td>\n",
              "      <td>182</td>\n",
              "      <td>42</td>\n",
              "      <td>118</td>\n",
              "      <td>247</td>\n",
              "      <td>2</td>\n",
              "      <td>9</td>\n",
              "      <td>3</td>\n",
              "      <td>4</td>\n",
              "      <td>5</td>\n",
              "      <td>0</td>\n",
              "      <td>0</td>\n",
              "      <td>0</td>\n",
              "      <td>0</td>\n",
              "      <td>0</td>\n",
              "      <td>0</td>\n",
              "      <td>3</td>\n",
              "      <td>11</td>\n",
              "      <td>0</td>\n",
              "    </tr>\n",
              "    <tr>\n",
              "      <th>2236</th>\n",
              "      <td>4001</td>\n",
              "      <td>1946</td>\n",
              "      <td>PhD</td>\n",
              "      <td>Together</td>\n",
              "      <td>64014.0</td>\n",
              "      <td>2</td>\n",
              "      <td>1</td>\n",
              "      <td>2014-06-10</td>\n",
              "      <td>56</td>\n",
              "      <td>406</td>\n",
              "      <td>0</td>\n",
              "      <td>30</td>\n",
              "      <td>0</td>\n",
              "      <td>0</td>\n",
              "      <td>8</td>\n",
              "      <td>7</td>\n",
              "      <td>8</td>\n",
              "      <td>2</td>\n",
              "      <td>5</td>\n",
              "      <td>7</td>\n",
              "      <td>0</td>\n",
              "      <td>0</td>\n",
              "      <td>0</td>\n",
              "      <td>1</td>\n",
              "      <td>0</td>\n",
              "      <td>0</td>\n",
              "      <td>3</td>\n",
              "      <td>11</td>\n",
              "      <td>0</td>\n",
              "    </tr>\n",
              "    <tr>\n",
              "      <th>2237</th>\n",
              "      <td>7270</td>\n",
              "      <td>1981</td>\n",
              "      <td>Graduation</td>\n",
              "      <td>Divorced</td>\n",
              "      <td>56981.0</td>\n",
              "      <td>0</td>\n",
              "      <td>0</td>\n",
              "      <td>2014-01-25</td>\n",
              "      <td>91</td>\n",
              "      <td>908</td>\n",
              "      <td>48</td>\n",
              "      <td>217</td>\n",
              "      <td>32</td>\n",
              "      <td>12</td>\n",
              "      <td>24</td>\n",
              "      <td>1</td>\n",
              "      <td>2</td>\n",
              "      <td>3</td>\n",
              "      <td>13</td>\n",
              "      <td>6</td>\n",
              "      <td>0</td>\n",
              "      <td>1</td>\n",
              "      <td>0</td>\n",
              "      <td>0</td>\n",
              "      <td>0</td>\n",
              "      <td>0</td>\n",
              "      <td>3</td>\n",
              "      <td>11</td>\n",
              "      <td>0</td>\n",
              "    </tr>\n",
              "    <tr>\n",
              "      <th>2238</th>\n",
              "      <td>8235</td>\n",
              "      <td>1956</td>\n",
              "      <td>Master</td>\n",
              "      <td>Together</td>\n",
              "      <td>69245.0</td>\n",
              "      <td>0</td>\n",
              "      <td>1</td>\n",
              "      <td>2014-01-24</td>\n",
              "      <td>8</td>\n",
              "      <td>428</td>\n",
              "      <td>30</td>\n",
              "      <td>214</td>\n",
              "      <td>80</td>\n",
              "      <td>30</td>\n",
              "      <td>61</td>\n",
              "      <td>2</td>\n",
              "      <td>6</td>\n",
              "      <td>5</td>\n",
              "      <td>10</td>\n",
              "      <td>3</td>\n",
              "      <td>0</td>\n",
              "      <td>0</td>\n",
              "      <td>0</td>\n",
              "      <td>0</td>\n",
              "      <td>0</td>\n",
              "      <td>0</td>\n",
              "      <td>3</td>\n",
              "      <td>11</td>\n",
              "      <td>0</td>\n",
              "    </tr>\n",
              "    <tr>\n",
              "      <th>2239</th>\n",
              "      <td>9405</td>\n",
              "      <td>1954</td>\n",
              "      <td>PhD</td>\n",
              "      <td>Married</td>\n",
              "      <td>52869.0</td>\n",
              "      <td>1</td>\n",
              "      <td>1</td>\n",
              "      <td>2012-10-15</td>\n",
              "      <td>40</td>\n",
              "      <td>84</td>\n",
              "      <td>3</td>\n",
              "      <td>61</td>\n",
              "      <td>2</td>\n",
              "      <td>1</td>\n",
              "      <td>21</td>\n",
              "      <td>3</td>\n",
              "      <td>3</td>\n",
              "      <td>1</td>\n",
              "      <td>4</td>\n",
              "      <td>7</td>\n",
              "      <td>0</td>\n",
              "      <td>0</td>\n",
              "      <td>0</td>\n",
              "      <td>0</td>\n",
              "      <td>0</td>\n",
              "      <td>0</td>\n",
              "      <td>3</td>\n",
              "      <td>11</td>\n",
              "      <td>1</td>\n",
              "    </tr>\n",
              "  </tbody>\n",
              "</table>\n",
              "<p>2240 rows × 29 columns</p>\n",
              "</div>"
            ],
            "text/plain": [
              "         ID  Year_Birth   Education  ... Z_CostContact  Z_Revenue  Response\n",
              "0      5524        1957  Graduation  ...             3         11         1\n",
              "1      2174        1954  Graduation  ...             3         11         0\n",
              "2      4141        1965  Graduation  ...             3         11         0\n",
              "3      6182        1984  Graduation  ...             3         11         0\n",
              "4      5324        1981         PhD  ...             3         11         0\n",
              "...     ...         ...         ...  ...           ...        ...       ...\n",
              "2235  10870        1967  Graduation  ...             3         11         0\n",
              "2236   4001        1946         PhD  ...             3         11         0\n",
              "2237   7270        1981  Graduation  ...             3         11         0\n",
              "2238   8235        1956      Master  ...             3         11         0\n",
              "2239   9405        1954         PhD  ...             3         11         1\n",
              "\n",
              "[2240 rows x 29 columns]"
            ]
          },
          "metadata": {},
          "execution_count": 47
        }
      ]
    },
    {
      "cell_type": "code",
      "metadata": {
        "id": "UwcSRXc_wil5"
      },
      "source": [
        "df.dtypes"
      ],
      "execution_count": null,
      "outputs": []
    },
    {
      "cell_type": "markdown",
      "metadata": {
        "id": "Y2k1hAIuW9ED"
      },
      "source": [
        "BACKUP"
      ]
    },
    {
      "cell_type": "code",
      "metadata": {
        "id": "3JlN9PVWXIYM"
      },
      "source": [
        "databack = df.copy()"
      ],
      "execution_count": null,
      "outputs": []
    },
    {
      "cell_type": "markdown",
      "metadata": {
        "id": "wHnogcH37zWu"
      },
      "source": [
        "LIMPEZA/TRATAMENTO DOS DADOS"
      ]
    },
    {
      "cell_type": "markdown",
      "metadata": {
        "id": "6D8WQcX35RHz"
      },
      "source": [
        "drop - AcceptedCmp3, AcceptedCmp4, AcceptedCmp1, AcceptedCmp5, AcceptedCmp2, response, recency, Z_CostContact, Z_Revenue.\n",
        "\n",
        "> Bloco com recuo\n",
        "\n"
      ]
    },
    {
      "cell_type": "code",
      "metadata": {
        "id": "E59G4rkMNdEQ"
      },
      "source": [
        "#Exclusão de colunas\n",
        "df.drop(['AcceptedCmp3', 'AcceptedCmp4', 'AcceptedCmp1', 'AcceptedCmp5', 'AcceptedCmp2', 'Response', 'Recency', 'Z_CostContact', 'Z_Revenue'], axis=1, inplace=True)"
      ],
      "execution_count": null,
      "outputs": []
    },
    {
      "cell_type": "code",
      "metadata": {
        "id": "vXZTOcg87rWU"
      },
      "source": [
        "#Renomeação de colunas \n",
        "df.rename(columns={'Year_Birth': 'Ano_nascimento', 'Education': 'Escolaridade', 'Marital_Status': 'Estado_civil', 'Income': 'Renda', 'Kidhome': 'Crianca_em_casa', 'Teenhome': 'adolescente_em_casa',  'Dt_Customer': 'Data_cliente', 'MntWines': 'Mnt_vinhos', 'MntFruits':'Mnt_frutas', 'MntMeatProducts': 'Mnt_produtos_carne', 'MntFishProducts': 'Mnt_produtos_peixe', 'MntSweetProducts': 'Mnt_produtos_doce', 'MntGoldProds': 'Mnt_produtos_gold', 'NumDealsPurchases': 'Num_ofertas_compras', 'NumWebPurchases': 'Num_compras_web', 'NumCatalogPurchases': 'Num_compras_catalogo', 'NumStorePurchases': 'Num_compras_loja', 'NumWebVisitsMonth ': 'Num_visitas_web_mes', 'Complain': 'Reclamacao',    }, inplace=True)  "
      ],
      "execution_count": null,
      "outputs": []
    },
    {
      "cell_type": "code",
      "metadata": {
        "id": "LoOqP70-xda3"
      },
      "source": [
        "#Renomeação das linhas da coluna 'Escolaridade' e 'Estado civil'\n",
        "df['Escolaridade'].replace(['2n Cycle', 'Basic', 'Graduation', 'Master', 'PhD'], ['Segundo_ciclo', 'Ensino_basico', 'Graduacao', 'Mestrado', 'Doutorado'], inplace=True)\n",
        "df['Estado_civil'].replace(['Absurd', 'Alone', 'Divorced', 'Married', 'Single', 'Together', 'Widow', 'YOLO'], ['declarado_absurdo', 'Sozinho', 'Divorciado', 'Casado', 'Solteiro', 'Juntos', 'Viuvo', 'Sem_rotulos'], inplace=True)"
      ],
      "execution_count": null,
      "outputs": []
    },
    {
      "cell_type": "code",
      "metadata": {
        "id": "Ch1JaHWBr8Xc"
      },
      "source": [
        "df.head(10)"
      ],
      "execution_count": null,
      "outputs": []
    },
    {
      "cell_type": "code",
      "metadata": {
        "id": "OFhQJhhyRu9g"
      },
      "source": [
        "#Mostra todos os elementos únicos da coluna Renda\n",
        "sorted(pd.unique(df['Renda']))"
      ],
      "execution_count": null,
      "outputs": []
    },
    {
      "cell_type": "code",
      "metadata": {
        "id": "nWkFEJXIUTfa"
      },
      "source": [
        "#Mostrar um elemento específico na coluna Renda\n",
        "df.loc[df.Renda == 'nan']  "
      ],
      "execution_count": null,
      "outputs": []
    },
    {
      "cell_type": "code",
      "metadata": {
        "id": "I3HF6psYOqBK"
      },
      "source": [
        "#Substituição dos valores fornecidos 'nan' por (<NA>)\n",
        "df.replace(['nan'], pd.NA, inplace=True)"
      ],
      "execution_count": null,
      "outputs": []
    },
    {
      "cell_type": "code",
      "metadata": {
        "colab": {
          "base_uri": "https://localhost:8080/"
        },
        "id": "PxW3A18vLCGv",
        "outputId": "e6c6d2f0-b035-438c-baa2-89dee304d2ec"
      },
      "source": [
        "#Mostrar dados os (<NA>) not available e soma por coluna \n",
        "df.isna().sum()         "
      ],
      "execution_count": null,
      "outputs": [
        {
          "output_type": "execute_result",
          "data": {
            "text/plain": [
              "ID                       0\n",
              "Ano_nascimento           0\n",
              "Escolaridade             0\n",
              "Estado_civil             0\n",
              "Renda                   24\n",
              "Crianca_em_casa          0\n",
              "adolescente_em_casa      0\n",
              "Data_cliente             0\n",
              "Mnt_vinhos               0\n",
              "Mnt_frutas               0\n",
              "Mnt_produtos_carne       0\n",
              "Mnt_produtos_peixe       0\n",
              "Mnt_produtos_doce        0\n",
              "Mnt_produtos_gold        0\n",
              "Num_ofertas_compras      0\n",
              "Num_compras_web          0\n",
              "Num_compras_catalogo     0\n",
              "Num_compras_loja         0\n",
              "NumWebVisitsMonth        0\n",
              "Reclamacao               0\n",
              "dtype: int64"
            ]
          },
          "metadata": {},
          "execution_count": 57
        }
      ]
    },
    {
      "cell_type": "code",
      "metadata": {
        "id": "bo10DgIIVeON"
      },
      "source": [
        "df.loc[df.Renda == 'NA']  "
      ],
      "execution_count": null,
      "outputs": []
    },
    {
      "cell_type": "code",
      "metadata": {
        "id": "9mi2XLSnJqjp"
      },
      "source": [
        "#Mudar estado civil sozinho para solteiro\n",
        "df.loc[df.Estado_civil == \"Sozinho\", ['Estado_civil']] = 'Solteiro' "
      ],
      "execution_count": null,
      "outputs": []
    },
    {
      "cell_type": "code",
      "metadata": {
        "id": "eGBvHzWnGdQI"
      },
      "source": [
        "#Mostra todos os elementos únicos da coluna Estado civil\n",
        "sorted(pd.unique(df['Estado_civil']))"
      ],
      "execution_count": null,
      "outputs": []
    },
    {
      "cell_type": "code",
      "metadata": {
        "id": "I2pnHtPUosdc"
      },
      "source": [
        "df.dtypes\n"
      ],
      "execution_count": null,
      "outputs": []
    },
    {
      "cell_type": "markdown",
      "metadata": {
        "id": "_156Y_rkXq7O"
      },
      "source": [
        "VALIDAÇÃO DOS DADOS"
      ]
    },
    {
      "cell_type": "code",
      "metadata": {
        "id": "I-0AGuTMXwFE"
      },
      "source": [
        "schema = pa.DataFrameSchema(\n",
        "    columns = {\n",
        "        \"ID\":pa.Column(pa.Int),\n",
        "        \"Ano_nascimento\":pa.Column(pa.Int),\n",
        "        \"Estado_civil\":pa.Column(pa.String),\n",
        "        \"Renda\": pa.Column(pa.Float, nullable=True),\n",
        "        \"Crianca_em_casa\":pa.Column(pa.Int),\n",
        "        \"adolescente_em_casa\":pa.Column(pa.Int),\n",
        "        \"Data_cliente\":pa.Column(pa.DateTime),\n",
        "        \"Mnt_vinhos\":pa.Column(pa.Int),\n",
        "        \"Mnt_frutas\":pa.Column(pa.Int),\n",
        "        \"Mnt_produtos_carne\":pa.Column(pa.Int),\n",
        "        \"Mnt_produtos_peixe\":pa.Column(pa.Int),\n",
        "        \"Mnt_produtos_doce\":pa.Column(pa.Int),\n",
        "        \"Mnt_produtos_gold\":pa.Column(pa.Int),\n",
        "        \"Num_ofertas_compras\":pa.Column(pa.Int),\n",
        "        \"Num_compras_web\":pa.Column(pa.Int),\n",
        "        \"Num_compras_catalogo\":pa.Column(pa.Int),\n",
        "        \"Num_compras_loja\":pa.Column(pa.Int),\n",
        "        \"NumWebVisitsMonth\":pa.Column(pa.Int),\n",
        "        \"Reclamacao\":pa.Column(pa.Int)\n",
        "    }\n",
        ")"
      ],
      "execution_count": null,
      "outputs": []
    },
    {
      "cell_type": "code",
      "metadata": {
        "colab": {
          "base_uri": "https://localhost:8080/",
          "height": 434
        },
        "id": "uymRsVbuv2Ln",
        "outputId": "2ccb8683-1855-41fe-d78b-05a49fe7a0d1"
      },
      "source": [
        "schema.validate(df) "
      ],
      "execution_count": null,
      "outputs": [
        {
          "output_type": "execute_result",
          "data": {
            "text/html": [
              "<div>\n",
              "<style scoped>\n",
              "    .dataframe tbody tr th:only-of-type {\n",
              "        vertical-align: middle;\n",
              "    }\n",
              "\n",
              "    .dataframe tbody tr th {\n",
              "        vertical-align: top;\n",
              "    }\n",
              "\n",
              "    .dataframe thead th {\n",
              "        text-align: right;\n",
              "    }\n",
              "</style>\n",
              "<table border=\"1\" class=\"dataframe\">\n",
              "  <thead>\n",
              "    <tr style=\"text-align: right;\">\n",
              "      <th></th>\n",
              "      <th>ID</th>\n",
              "      <th>Ano_nascimento</th>\n",
              "      <th>Escolaridade</th>\n",
              "      <th>Estado_civil</th>\n",
              "      <th>Renda</th>\n",
              "      <th>Crianca_em_casa</th>\n",
              "      <th>adolescente_em_casa</th>\n",
              "      <th>Data_cliente</th>\n",
              "      <th>Mnt_vinhos</th>\n",
              "      <th>Mnt_frutas</th>\n",
              "      <th>Mnt_produtos_carne</th>\n",
              "      <th>Mnt_produtos_peixe</th>\n",
              "      <th>Mnt_produtos_doce</th>\n",
              "      <th>Mnt_produtos_gold</th>\n",
              "      <th>Num_ofertas_compras</th>\n",
              "      <th>Num_compras_web</th>\n",
              "      <th>Num_compras_catalogo</th>\n",
              "      <th>Num_compras_loja</th>\n",
              "      <th>NumWebVisitsMonth</th>\n",
              "      <th>Reclamacao</th>\n",
              "    </tr>\n",
              "  </thead>\n",
              "  <tbody>\n",
              "    <tr>\n",
              "      <th>0</th>\n",
              "      <td>5524</td>\n",
              "      <td>1957</td>\n",
              "      <td>Graduacao</td>\n",
              "      <td>Solteiro</td>\n",
              "      <td>58138.0</td>\n",
              "      <td>0</td>\n",
              "      <td>0</td>\n",
              "      <td>2012-09-04</td>\n",
              "      <td>635</td>\n",
              "      <td>88</td>\n",
              "      <td>546</td>\n",
              "      <td>172</td>\n",
              "      <td>88</td>\n",
              "      <td>88</td>\n",
              "      <td>3</td>\n",
              "      <td>8</td>\n",
              "      <td>10</td>\n",
              "      <td>4</td>\n",
              "      <td>7</td>\n",
              "      <td>0</td>\n",
              "    </tr>\n",
              "    <tr>\n",
              "      <th>1</th>\n",
              "      <td>2174</td>\n",
              "      <td>1954</td>\n",
              "      <td>Graduacao</td>\n",
              "      <td>Solteiro</td>\n",
              "      <td>46344.0</td>\n",
              "      <td>1</td>\n",
              "      <td>1</td>\n",
              "      <td>2014-03-08</td>\n",
              "      <td>11</td>\n",
              "      <td>1</td>\n",
              "      <td>6</td>\n",
              "      <td>2</td>\n",
              "      <td>1</td>\n",
              "      <td>6</td>\n",
              "      <td>2</td>\n",
              "      <td>1</td>\n",
              "      <td>1</td>\n",
              "      <td>2</td>\n",
              "      <td>5</td>\n",
              "      <td>0</td>\n",
              "    </tr>\n",
              "    <tr>\n",
              "      <th>2</th>\n",
              "      <td>4141</td>\n",
              "      <td>1965</td>\n",
              "      <td>Graduacao</td>\n",
              "      <td>Juntos</td>\n",
              "      <td>71613.0</td>\n",
              "      <td>0</td>\n",
              "      <td>0</td>\n",
              "      <td>2013-08-21</td>\n",
              "      <td>426</td>\n",
              "      <td>49</td>\n",
              "      <td>127</td>\n",
              "      <td>111</td>\n",
              "      <td>21</td>\n",
              "      <td>42</td>\n",
              "      <td>1</td>\n",
              "      <td>8</td>\n",
              "      <td>2</td>\n",
              "      <td>10</td>\n",
              "      <td>4</td>\n",
              "      <td>0</td>\n",
              "    </tr>\n",
              "    <tr>\n",
              "      <th>3</th>\n",
              "      <td>6182</td>\n",
              "      <td>1984</td>\n",
              "      <td>Graduacao</td>\n",
              "      <td>Juntos</td>\n",
              "      <td>26646.0</td>\n",
              "      <td>1</td>\n",
              "      <td>0</td>\n",
              "      <td>2014-02-10</td>\n",
              "      <td>11</td>\n",
              "      <td>4</td>\n",
              "      <td>20</td>\n",
              "      <td>10</td>\n",
              "      <td>3</td>\n",
              "      <td>5</td>\n",
              "      <td>2</td>\n",
              "      <td>2</td>\n",
              "      <td>0</td>\n",
              "      <td>4</td>\n",
              "      <td>6</td>\n",
              "      <td>0</td>\n",
              "    </tr>\n",
              "    <tr>\n",
              "      <th>4</th>\n",
              "      <td>5324</td>\n",
              "      <td>1981</td>\n",
              "      <td>Doutorado</td>\n",
              "      <td>Casado</td>\n",
              "      <td>58293.0</td>\n",
              "      <td>1</td>\n",
              "      <td>0</td>\n",
              "      <td>2014-01-19</td>\n",
              "      <td>173</td>\n",
              "      <td>43</td>\n",
              "      <td>118</td>\n",
              "      <td>46</td>\n",
              "      <td>27</td>\n",
              "      <td>15</td>\n",
              "      <td>5</td>\n",
              "      <td>5</td>\n",
              "      <td>3</td>\n",
              "      <td>6</td>\n",
              "      <td>5</td>\n",
              "      <td>0</td>\n",
              "    </tr>\n",
              "    <tr>\n",
              "      <th>...</th>\n",
              "      <td>...</td>\n",
              "      <td>...</td>\n",
              "      <td>...</td>\n",
              "      <td>...</td>\n",
              "      <td>...</td>\n",
              "      <td>...</td>\n",
              "      <td>...</td>\n",
              "      <td>...</td>\n",
              "      <td>...</td>\n",
              "      <td>...</td>\n",
              "      <td>...</td>\n",
              "      <td>...</td>\n",
              "      <td>...</td>\n",
              "      <td>...</td>\n",
              "      <td>...</td>\n",
              "      <td>...</td>\n",
              "      <td>...</td>\n",
              "      <td>...</td>\n",
              "      <td>...</td>\n",
              "      <td>...</td>\n",
              "    </tr>\n",
              "    <tr>\n",
              "      <th>2235</th>\n",
              "      <td>10870</td>\n",
              "      <td>1967</td>\n",
              "      <td>Graduacao</td>\n",
              "      <td>Casado</td>\n",
              "      <td>61223.0</td>\n",
              "      <td>0</td>\n",
              "      <td>1</td>\n",
              "      <td>2013-06-13</td>\n",
              "      <td>709</td>\n",
              "      <td>43</td>\n",
              "      <td>182</td>\n",
              "      <td>42</td>\n",
              "      <td>118</td>\n",
              "      <td>247</td>\n",
              "      <td>2</td>\n",
              "      <td>9</td>\n",
              "      <td>3</td>\n",
              "      <td>4</td>\n",
              "      <td>5</td>\n",
              "      <td>0</td>\n",
              "    </tr>\n",
              "    <tr>\n",
              "      <th>2236</th>\n",
              "      <td>4001</td>\n",
              "      <td>1946</td>\n",
              "      <td>Doutorado</td>\n",
              "      <td>Juntos</td>\n",
              "      <td>64014.0</td>\n",
              "      <td>2</td>\n",
              "      <td>1</td>\n",
              "      <td>2014-06-10</td>\n",
              "      <td>406</td>\n",
              "      <td>0</td>\n",
              "      <td>30</td>\n",
              "      <td>0</td>\n",
              "      <td>0</td>\n",
              "      <td>8</td>\n",
              "      <td>7</td>\n",
              "      <td>8</td>\n",
              "      <td>2</td>\n",
              "      <td>5</td>\n",
              "      <td>7</td>\n",
              "      <td>0</td>\n",
              "    </tr>\n",
              "    <tr>\n",
              "      <th>2237</th>\n",
              "      <td>7270</td>\n",
              "      <td>1981</td>\n",
              "      <td>Graduacao</td>\n",
              "      <td>Divorciado</td>\n",
              "      <td>56981.0</td>\n",
              "      <td>0</td>\n",
              "      <td>0</td>\n",
              "      <td>2014-01-25</td>\n",
              "      <td>908</td>\n",
              "      <td>48</td>\n",
              "      <td>217</td>\n",
              "      <td>32</td>\n",
              "      <td>12</td>\n",
              "      <td>24</td>\n",
              "      <td>1</td>\n",
              "      <td>2</td>\n",
              "      <td>3</td>\n",
              "      <td>13</td>\n",
              "      <td>6</td>\n",
              "      <td>0</td>\n",
              "    </tr>\n",
              "    <tr>\n",
              "      <th>2238</th>\n",
              "      <td>8235</td>\n",
              "      <td>1956</td>\n",
              "      <td>Mestrado</td>\n",
              "      <td>Juntos</td>\n",
              "      <td>69245.0</td>\n",
              "      <td>0</td>\n",
              "      <td>1</td>\n",
              "      <td>2014-01-24</td>\n",
              "      <td>428</td>\n",
              "      <td>30</td>\n",
              "      <td>214</td>\n",
              "      <td>80</td>\n",
              "      <td>30</td>\n",
              "      <td>61</td>\n",
              "      <td>2</td>\n",
              "      <td>6</td>\n",
              "      <td>5</td>\n",
              "      <td>10</td>\n",
              "      <td>3</td>\n",
              "      <td>0</td>\n",
              "    </tr>\n",
              "    <tr>\n",
              "      <th>2239</th>\n",
              "      <td>9405</td>\n",
              "      <td>1954</td>\n",
              "      <td>Doutorado</td>\n",
              "      <td>Casado</td>\n",
              "      <td>52869.0</td>\n",
              "      <td>1</td>\n",
              "      <td>1</td>\n",
              "      <td>2012-10-15</td>\n",
              "      <td>84</td>\n",
              "      <td>3</td>\n",
              "      <td>61</td>\n",
              "      <td>2</td>\n",
              "      <td>1</td>\n",
              "      <td>21</td>\n",
              "      <td>3</td>\n",
              "      <td>3</td>\n",
              "      <td>1</td>\n",
              "      <td>4</td>\n",
              "      <td>7</td>\n",
              "      <td>0</td>\n",
              "    </tr>\n",
              "  </tbody>\n",
              "</table>\n",
              "<p>2240 rows × 20 columns</p>\n",
              "</div>"
            ],
            "text/plain": [
              "         ID  Ano_nascimento  ... NumWebVisitsMonth Reclamacao\n",
              "0      5524            1957  ...                 7          0\n",
              "1      2174            1954  ...                 5          0\n",
              "2      4141            1965  ...                 4          0\n",
              "3      6182            1984  ...                 6          0\n",
              "4      5324            1981  ...                 5          0\n",
              "...     ...             ...  ...               ...        ...\n",
              "2235  10870            1967  ...                 5          0\n",
              "2236   4001            1946  ...                 7          0\n",
              "2237   7270            1981  ...                 6          0\n",
              "2238   8235            1956  ...                 3          0\n",
              "2239   9405            1954  ...                 7          0\n",
              "\n",
              "[2240 rows x 20 columns]"
            ]
          },
          "metadata": {},
          "execution_count": 63
        }
      ]
    },
    {
      "cell_type": "markdown",
      "metadata": {
        "id": "MLGzRnyfYTJP"
      },
      "source": [
        "CARREGAMENTO PARA CSV"
      ]
    },
    {
      "cell_type": "code",
      "metadata": {
        "id": "TrQ_WpD9YUJs"
      },
      "source": [
        "df.to_csv('campanha_marketing.csv', index=False)"
      ],
      "execution_count": null,
      "outputs": []
    },
    {
      "cell_type": "markdown",
      "metadata": {
        "id": "pjChilgbOC0q"
      },
      "source": [
        "PYSPARK"
      ]
    },
    {
      "cell_type": "code",
      "metadata": {
        "colab": {
          "base_uri": "https://localhost:8080/"
        },
        "id": "T6SzL8RCOCRj",
        "outputId": "504ce3af-8257-4b9c-dbbb-20ea68667827"
      },
      "source": [
        "!pip install pyspark"
      ],
      "execution_count": null,
      "outputs": [
        {
          "output_type": "stream",
          "name": "stdout",
          "text": [
            "Requirement already satisfied: pyspark in /usr/local/lib/python3.7/dist-packages (3.2.0)\n",
            "Requirement already satisfied: py4j==0.10.9.2 in /usr/local/lib/python3.7/dist-packages (from pyspark) (0.10.9.2)\n"
          ]
        }
      ]
    },
    {
      "cell_type": "markdown",
      "metadata": {
        "id": "3pAdncSaaA0A"
      },
      "source": [
        "IMPORTAÇÃO DAS BIBLIOTECAS"
      ]
    },
    {
      "cell_type": "code",
      "metadata": {
        "id": "8PpJFybgOsIK"
      },
      "source": [
        "from pyspark.sql import SparkSession\n",
        "import pyspark.sql.functions as F\n",
        "from pyspark.sql.types import StructType, StructField, StringType, IntegerType\n",
        "from pyspark.sql.types import ArrayType, DoubleType, BooleanType\n",
        "from pyspark.sql.window import Window"
      ],
      "execution_count": null,
      "outputs": []
    },
    {
      "cell_type": "markdown",
      "metadata": {
        "id": "EPv74lgtPWGp"
      },
      "source": [
        "Configuração da SparkSession"
      ]
    },
    {
      "cell_type": "code",
      "metadata": {
        "id": "AN44DvHlO0MT"
      },
      "source": [
        "spark = (\n",
        "SparkSession.builder\\\n",
        "        .master(\"local\")\\\n",
        "        .appName(\"aprendendo-dataframes\")\\\n",
        "        .config(\"spark.ui.port\", \"4050\")\\\n",
        "        .getOrCreate()\n",
        ")     "
      ],
      "execution_count": null,
      "outputs": []
    },
    {
      "cell_type": "code",
      "metadata": {
        "id": "5qyoiHcDPdqs"
      },
      "source": [
        "\n",
        "df1 = (spark\n",
        "       .read\n",
        "       .format(\"csv\")\n",
        "       .option(\"header\", \"true\")\n",
        "       .option(\"inferschema\", \"true\")\n",
        "       .option(\"delimiter\", \",\")\n",
        "       .load('/content/campanha_marketing.csv')\n",
        ")"
      ],
      "execution_count": null,
      "outputs": []
    },
    {
      "cell_type": "code",
      "metadata": {
        "id": "E-qWCiNJRHQj"
      },
      "source": [
        "#Leitura do csv utilizando o StructType - \n",
        "schema = (\n",
        "    StructType([\n",
        "        StructField(\"ID\",StringType(), True),\n",
        "        StructField(\"Ano_nascimento\", IntegerType(), True, ),\n",
        "        StructField(\"Escolaridade\", StringType(), True),\n",
        "        StructField(\"Estado_civil\", StringType(), True),\n",
        "        StructField(\"Renda\", DoubleType(), True),\n",
        "        StructField(\"Crianca_em_casa\", IntegerType(), True),\n",
        "        StructField(\"adolescente_em_casa\", IntegerType(), True),\n",
        "        StructField(\"Data_cliente\", StringType(), True),\n",
        "        StructField(\"Mnt_vinhos\", IntegerType(), True),\n",
        "        StructField(\"Mnt_frutas\", IntegerType(), True),\n",
        "        StructField(\"Mnt_produtos_carne\", IntegerType(), True),\n",
        "        StructField(\"Mnt_produtos_peixe\", IntegerType(), True),\n",
        "        StructField(\"Mnt_produtos_doce\", IntegerType(), True),\n",
        "        StructField(\"Mnt_produtos_gold\", IntegerType(), True),\n",
        "        StructField(\"Num_ofertas_compras\", IntegerType(), True),\n",
        "        StructField(\"Num_compras_web\", IntegerType(), True),\n",
        "        StructField(\"Num_compras_catalogo\", IntegerType(), True),\n",
        "        StructField(\"Num_compras_loja\", IntegerType(), True),\n",
        "        StructField(\"NumWebVisitsMonth\", IntegerType(), True),\n",
        "        StructField(\"Reclamacao\", IntegerType(), True),\n",
        "\n",
        "    ])\n",
        ")\n",
        "\n",
        "df2 = spark.read.format(\"csv\") \\\n",
        "      .option(\"header\", True) \\\n",
        "      .schema(schema) \\\n",
        "      .load(\"/content/campanha_marketing.csv\") \\\n",
        "\n"
      ],
      "execution_count": null,
      "outputs": []
    },
    {
      "cell_type": "code",
      "metadata": {
        "id": "AiNWo7VjuPGN"
      },
      "source": [
        "#Renomeação das colunas: 'adolescente_em_casa' e  'NumWebVisitsMonth'\n",
        "df3 = df2.withColumnRenamed(\"adolescente_em_casa\",\"Adolescente_em_casa\") \\\n",
        "     .withColumnRenamed(\"NumWebVisitsMonth\",\"Num_visita_web_Mes\")\n"
      ],
      "execution_count": null,
      "outputs": []
    },
    {
      "cell_type": "markdown",
      "metadata": {
        "id": "BzyjeTyiO64I"
      },
      "source": [
        "CARREGAMENTO PARA CSV\n",
        "\n",
        "\n"
      ]
    },
    {
      "cell_type": "code",
      "metadata": {
        "id": "awis4ZziMpcg"
      },
      "source": [
        "df3.toPandas().to_csv('campanha_marketing_pyspark.csv', index=False)"
      ],
      "execution_count": null,
      "outputs": []
    },
    {
      "cell_type": "code",
      "metadata": {
        "colab": {
          "base_uri": "https://localhost:8080/"
        },
        "id": "xdadO1SBwEcs",
        "outputId": "e2cafd9c-0aa7-48d5-e150-128842869a61"
      },
      "source": [
        "#Criação de uma nova coluna com a seguinte informação: Caso o indivíduo tenha a renda maior ou igual a 70000 , colocar o texto “Renda maior ou igual 70000”. Caso contrário, colocar o texto: “Renda menor do que 70000”\n",
        "df4 = (df3.withColumn(\"status_Renda\", F.when(F.col(\"Renda\") >= 70000, \"Renda maior ou igual 70000\")\n",
        "         .otherwise(\"Renda menor do que 70000\"))\n",
        "      \n",
        ")\n",
        "df4.select(F.col(\"Escolaridade\"), F.col(\"Renda\"), F.col(\"status_Renda\")).show(20)"
      ],
      "execution_count": null,
      "outputs": [
        {
          "output_type": "stream",
          "name": "stdout",
          "text": [
            "+-------------+-------+--------------------+\n",
            "| Escolaridade|  Renda|        status_Renda|\n",
            "+-------------+-------+--------------------+\n",
            "|    Graduacao|58138.0|Renda menor do qu...|\n",
            "|    Graduacao|46344.0|Renda menor do qu...|\n",
            "|    Graduacao|71613.0|Renda maior ou ig...|\n",
            "|    Graduacao|26646.0|Renda menor do qu...|\n",
            "|    Doutorado|58293.0|Renda menor do qu...|\n",
            "|     Mestrado|62513.0|Renda menor do qu...|\n",
            "|    Graduacao|55635.0|Renda menor do qu...|\n",
            "|    Doutorado|33454.0|Renda menor do qu...|\n",
            "|    Doutorado|30351.0|Renda menor do qu...|\n",
            "|    Doutorado| 5648.0|Renda menor do qu...|\n",
            "|    Graduacao|   null|Renda menor do qu...|\n",
            "|Ensino_basico| 7500.0|Renda menor do qu...|\n",
            "|    Graduacao|63033.0|Renda menor do qu...|\n",
            "|     Mestrado|59354.0|Renda menor do qu...|\n",
            "|    Graduacao|17323.0|Renda menor do qu...|\n",
            "|    Doutorado|82800.0|Renda maior ou ig...|\n",
            "|    Graduacao|41850.0|Renda menor do qu...|\n",
            "|    Graduacao|37760.0|Renda menor do qu...|\n",
            "|     Mestrado|76995.0|Renda maior ou ig...|\n",
            "|Segundo_ciclo|33812.0|Renda menor do qu...|\n",
            "+-------------+-------+--------------------+\n",
            "only showing top 20 rows\n",
            "\n"
          ]
        }
      ]
    },
    {
      "cell_type": "markdown",
      "metadata": {
        "id": "T2yZXjMLPNVQ"
      },
      "source": [
        "CARREGAMENTO PARA CSV"
      ]
    },
    {
      "cell_type": "code",
      "metadata": {
        "id": "hQPvTTNlPKW0"
      },
      "source": [
        "df4.toPandas().to_csv('campanha_marketing_pyspark_col_status_renda.csv', index=False)"
      ],
      "execution_count": null,
      "outputs": []
    },
    {
      "cell_type": "code",
      "metadata": {
        "colab": {
          "base_uri": "https://localhost:8080/"
        },
        "id": "rnyGMaiAyIdH",
        "outputId": "46227ced-91f5-44b6-b422-8dffe7328586"
      },
      "source": [
        "#Criação de uma segunda nova coluna com a seguinte informação: Caso o indivíduo tenha o número de compras na web maior ou igual a 5 , colocar o texto “Numero de compras na web maior ou igual 5”. Caso contrário, colocar o texto: “Numero de compras na web menor do que 5”\n",
        "df5 = (df4.withColumn(\"Compras_web\", F.when(F.col(\"Num_compras_web\") >= 5, \"Numero de compras na web maior ou igual 5\")\n",
        "          .otherwise(\"Numero de compras na web menor do que 5\"))\n",
        "      )\n",
        "\n",
        "df5.select(F.col(\"Num_visita_web_Mes\"), F.col(\"Num_compras_web\"), F.col(\"Compras_web\")).show(20)"
      ],
      "execution_count": null,
      "outputs": [
        {
          "output_type": "stream",
          "name": "stdout",
          "text": [
            "+------------------+---------------+--------------------+\n",
            "|Num_visita_web_Mes|Num_compras_web|         Compras_web|\n",
            "+------------------+---------------+--------------------+\n",
            "|                 7|              8|Numero de compras...|\n",
            "|                 5|              1|Numero de compras...|\n",
            "|                 4|              8|Numero de compras...|\n",
            "|                 6|              2|Numero de compras...|\n",
            "|                 5|              5|Numero de compras...|\n",
            "|                 6|              6|Numero de compras...|\n",
            "|                 6|              7|Numero de compras...|\n",
            "|                 8|              4|Numero de compras...|\n",
            "|                 9|              3|Numero de compras...|\n",
            "|                20|              1|Numero de compras...|\n",
            "|                 7|              1|Numero de compras...|\n",
            "|                 8|              2|Numero de compras...|\n",
            "|                 2|              3|Numero de compras...|\n",
            "|                 6|              6|Numero de compras...|\n",
            "|                 8|              1|Numero de compras...|\n",
            "|                 3|              7|Numero de compras...|\n",
            "|                 8|              3|Numero de compras...|\n",
            "|                 7|              4|Numero de compras...|\n",
            "|                 5|             11|Numero de compras...|\n",
            "|                 6|              2|Numero de compras...|\n",
            "+------------------+---------------+--------------------+\n",
            "only showing top 20 rows\n",
            "\n"
          ]
        }
      ]
    },
    {
      "cell_type": "markdown",
      "metadata": {
        "id": "egIK1T3RPfFp"
      },
      "source": [
        "CARREGAMENTO PARA CSV"
      ]
    },
    {
      "cell_type": "code",
      "metadata": {
        "id": "vuiK1SU30LFf"
      },
      "source": [
        "df5.toPandas().to_csv('campanha_marketing_pyspark_col_Compras_web.csv', index=False)"
      ],
      "execution_count": null,
      "outputs": []
    },
    {
      "cell_type": "markdown",
      "metadata": {
        "id": "4MZ7vDX21oHh"
      },
      "source": [
        "Utilizando FILTROS, ORDENAMENTO e AGRUPAMENTO"
      ]
    },
    {
      "cell_type": "code",
      "metadata": {
        "colab": {
          "base_uri": "https://localhost:8080/"
        },
        "id": "_99Ajfoa0qj5",
        "outputId": "260f2a83-297e-44c3-efed-9e73100c4b70"
      },
      "source": [
        "#Exibição da Escolaridade, Crianca em casa e Estado civil apenas de Crianca em casa == 1\n",
        "df3.select(F.col(\"Escolaridade\"), F.col(\"Crianca_em_casa\"), F.col(\"Estado_civil\")).filter(F.col(\"crianca_em_casa\") == \"1\").show(20)"
      ],
      "execution_count": null,
      "outputs": [
        {
          "output_type": "stream",
          "name": "stdout",
          "text": [
            "+-------------+---------------+------------+\n",
            "| Escolaridade|Crianca_em_casa|Estado_civil|\n",
            "+-------------+---------------+------------+\n",
            "|    Graduacao|              1|    Solteiro|\n",
            "|    Graduacao|              1|      Juntos|\n",
            "|    Doutorado|              1|      Casado|\n",
            "|    Doutorado|              1|      Casado|\n",
            "|    Doutorado|              1|      Juntos|\n",
            "|    Doutorado|              1|      Juntos|\n",
            "|    Graduacao|              1|      Casado|\n",
            "|     Mestrado|              1|  Divorciado|\n",
            "|    Graduacao|              1|      Casado|\n",
            "|Segundo_ciclo|              1|    Solteiro|\n",
            "|    Graduacao|              1|      Casado|\n",
            "|    Graduacao|              1|      Casado|\n",
            "|    Graduacao|              1|    Solteiro|\n",
            "|    Graduacao|              1|      Casado|\n",
            "|     Mestrado|              1|    Solteiro|\n",
            "|Segundo_ciclo|              1|      Casado|\n",
            "|     Mestrado|              1|      Casado|\n",
            "|     Mestrado|              1|      Casado|\n",
            "|    Graduacao|              1|      Juntos|\n",
            "|    Doutorado|              1|      Casado|\n",
            "+-------------+---------------+------------+\n",
            "only showing top 20 rows\n",
            "\n"
          ]
        }
      ]
    },
    {
      "cell_type": "code",
      "metadata": {
        "colab": {
          "base_uri": "https://localhost:8080/"
        },
        "id": "RO0RwOjy3PSf",
        "outputId": "b704e802-a080-4ff0-ec4a-8c119797d75f"
      },
      "source": [
        "#Exibição de filtragem de Escolaridade por Mestrado, Mnt_vinhos por == 5 e Estado_civil por Solteiro\n",
        "df3.select(F.col(\"Escolaridade\"), F.col(\"Mnt_vinhos\"), F.col(\"Estado_civil\"))\\\n",
        "                 .filter(F.col(\"Escolaridade\") == \"Mestrado\")\\\n",
        "                 .filter(F.col(\"Mnt_vinhos\") == \"5\")\\\n",
        "                 .filter(F.col(\"Estado_civil\") == \"Solteiro\")\\\n",
        "                 .show()"
      ],
      "execution_count": null,
      "outputs": [
        {
          "output_type": "stream",
          "name": "stdout",
          "text": [
            "+------------+----------+------------+\n",
            "|Escolaridade|Mnt_vinhos|Estado_civil|\n",
            "+------------+----------+------------+\n",
            "|    Mestrado|         5|    Solteiro|\n",
            "|    Mestrado|         5|    Solteiro|\n",
            "+------------+----------+------------+\n",
            "\n"
          ]
        }
      ]
    },
    {
      "cell_type": "code",
      "metadata": {
        "colab": {
          "base_uri": "https://localhost:8080/"
        },
        "id": "MmZ4ah587kfx",
        "outputId": "636f59a3-8cd3-437c-c758-5e8cfdec1868"
      },
      "source": [
        "#Retorna a média dos valores através da coluna Renda\n",
        "avg = df3.select(F.avg(\"Renda\")).collect()[0][0]\n",
        "print(f\"avg: {avg}\")"
      ],
      "execution_count": null,
      "outputs": [
        {
          "output_type": "stream",
          "name": "stdout",
          "text": [
            "avg: 52247.25135379061\n"
          ]
        }
      ]
    },
    {
      "cell_type": "code",
      "metadata": {
        "colab": {
          "base_uri": "https://localhost:8080/"
        },
        "id": "c-cQR-nc8kYR",
        "outputId": "e0cabd9b-cb25-4a10-fdeb-f9b8ca03bf03"
      },
      "source": [
        "#Retorna o maior valor da renda\n",
        "df3.select(F.max(F.col(\"Renda\"))).show(truncate=False)"
      ],
      "execution_count": null,
      "outputs": [
        {
          "output_type": "stream",
          "name": "stdout",
          "text": [
            "+----------+\n",
            "|max(Renda)|\n",
            "+----------+\n",
            "|666666.0  |\n",
            "+----------+\n",
            "\n"
          ]
        }
      ]
    },
    {
      "cell_type": "code",
      "metadata": {
        "colab": {
          "base_uri": "https://localhost:8080/"
        },
        "id": "GIIc-4Si9OfC",
        "outputId": "6e5a4235-8e60-46ec-b169-9cea6427d3dd"
      },
      "source": [
        "#Retorna o menor valor da renda\n",
        "df3.select(F.min(F.col(\"Renda\"))).show(truncate=False)"
      ],
      "execution_count": null,
      "outputs": [
        {
          "output_type": "stream",
          "name": "stdout",
          "text": [
            "+----------+\n",
            "|min(Renda)|\n",
            "+----------+\n",
            "|1730.0    |\n",
            "+----------+\n",
            "\n"
          ]
        }
      ]
    },
    {
      "cell_type": "code",
      "metadata": {
        "colab": {
          "base_uri": "https://localhost:8080/"
        },
        "id": "Ds23Scz09i1U",
        "outputId": "2eaebad1-fcb3-4ee7-9d74-2860fcd1fc50"
      },
      "source": [
        "#Retorna os valores distintos de renda \n",
        "approx = df3.select(F.approx_count_distinct(\"Renda\")).collect()[0][0]\n",
        "print(f\"approx_count_distinct: {approx}\")"
      ],
      "execution_count": null,
      "outputs": [
        {
          "output_type": "stream",
          "name": "stdout",
          "text": [
            "approx_count_distinct: 2047\n"
          ]
        }
      ]
    },
    {
      "cell_type": "code",
      "metadata": {
        "colab": {
          "base_uri": "https://localhost:8080/"
        },
        "id": "-Dt2DtsM-ReB",
        "outputId": "6cb9124a-9a1b-47dc-a056-baf4ac13ecff"
      },
      "source": [
        "#Contagem de linhas existes na tabela agrupada pela coluna Escolaridade\n",
        "df3.groupBy(F.col(\"Escolaridade\")).count().show()"
      ],
      "execution_count": null,
      "outputs": [
        {
          "output_type": "stream",
          "name": "stdout",
          "text": [
            "+-------------+-----+\n",
            "| Escolaridade|count|\n",
            "+-------------+-----+\n",
            "|    Doutorado|  486|\n",
            "|    Graduacao| 1127|\n",
            "|Segundo_ciclo|  203|\n",
            "|     Mestrado|  370|\n",
            "|Ensino_basico|   54|\n",
            "+-------------+-----+\n",
            "\n"
          ]
        }
      ]
    },
    {
      "cell_type": "code",
      "metadata": {
        "colab": {
          "base_uri": "https://localhost:8080/"
        },
        "id": "bSXEbmBC_Q5U",
        "outputId": "271c24ab-2956-40a8-adf6-f333798b296f"
      },
      "source": [
        "#Retorna o menor valor do agrupamento Escolaridade e Num_compras_loja\n",
        "df3.groupBy(F.col(\"Escolaridade\")).min(\"Num_compras_loja\").show()"
      ],
      "execution_count": null,
      "outputs": [
        {
          "output_type": "stream",
          "name": "stdout",
          "text": [
            "+-------------+---------------------+\n",
            "| Escolaridade|min(Num_compras_loja)|\n",
            "+-------------+---------------------+\n",
            "|    Doutorado|                    0|\n",
            "|    Graduacao|                    0|\n",
            "|Segundo_ciclo|                    1|\n",
            "|     Mestrado|                    1|\n",
            "|Ensino_basico|                    2|\n",
            "+-------------+---------------------+\n",
            "\n"
          ]
        }
      ]
    },
    {
      "cell_type": "code",
      "metadata": {
        "colab": {
          "base_uri": "https://localhost:8080/"
        },
        "id": "W_DTEC1HACzy",
        "outputId": "41c9de0b-e0cb-4294-ba7f-3291474393fb"
      },
      "source": [
        "#Retorna o maior valor do agrupamento Escolaridade e Num_compras_loja\n",
        "df3.groupBy(F.col(\"Escolaridade\")).max(\"Num_compras_loja\").show()"
      ],
      "execution_count": null,
      "outputs": [
        {
          "output_type": "stream",
          "name": "stdout",
          "text": [
            "+-------------+---------------------+\n",
            "| Escolaridade|max(Num_compras_loja)|\n",
            "+-------------+---------------------+\n",
            "|    Doutorado|                   13|\n",
            "|    Graduacao|                   13|\n",
            "|Segundo_ciclo|                   13|\n",
            "|     Mestrado|                   13|\n",
            "|Ensino_basico|                    8|\n",
            "+-------------+---------------------+\n",
            "\n"
          ]
        }
      ]
    },
    {
      "cell_type": "code",
      "metadata": {
        "colab": {
          "base_uri": "https://localhost:8080/"
        },
        "id": "C2TQqEx1BCOb",
        "outputId": "9c4301a0-1047-4b9f-a28a-78accc282adb"
      },
      "source": [
        "#Retorna a média do agrupamento Escolaridade e Num_compras_loja\n",
        "df3.groupBy(F.col(\"Escolaridade\")).mean(\"Num_compras_loja\").show()"
      ],
      "execution_count": null,
      "outputs": [
        {
          "output_type": "stream",
          "name": "stdout",
          "text": [
            "+-------------+---------------------+\n",
            "| Escolaridade|avg(Num_compras_loja)|\n",
            "+-------------+---------------------+\n",
            "|    Doutorado|    6.061728395061729|\n",
            "|    Graduacao|     5.82963620230701|\n",
            "|Segundo_ciclo|   5.5073891625615765|\n",
            "|     Mestrado|    5.897297297297297|\n",
            "|Ensino_basico|   2.8518518518518516|\n",
            "+-------------+---------------------+\n",
            "\n"
          ]
        }
      ]
    },
    {
      "cell_type": "code",
      "metadata": {
        "id": "vJ1TtZLhBhpj",
        "colab": {
          "base_uri": "https://localhost:8080/"
        },
        "outputId": "d789f3f5-e236-4fc7-cf29-a5bd5d1d2526"
      },
      "source": [
        "#Retorna a agregação de mais de uma função da coluna Num_visita_web_Mes pela Escolaridade\n",
        "df6 = df3.groupBy(F.col(\"Escolaridade\")).agg(\n",
        "            F.sum(\"Num_visita_web_Mes\").alias(\"soma_Num_visita_web_Mes\"),\n",
        "            F.mean(\"Num_visita_web_Mes\").alias(\"media_Num_visita_web_Mes\"),\n",
        "            F.max(\"Num_visita_web_Mes\").alias(\"maior_Num_visita_web_Mes\"),\n",
        "            F.min(\"Num_visita_web_Mes\").alias(\"menor_Num_visita_web_Mes\")\n",
        "            ).where(F.col(\"soma_Num_visita_web_Mes\") >= 10).show()\n",
        "            "
      ],
      "execution_count": null,
      "outputs": [
        {
          "output_type": "stream",
          "name": "stdout",
          "text": [
            "+-------------+-----------------------+------------------------+------------------------+------------------------+\n",
            "| Escolaridade|soma_Num_visita_web_Mes|media_Num_visita_web_Mes|maior_Num_visita_web_Mes|menor_Num_visita_web_Mes|\n",
            "+-------------+-----------------------+------------------------+------------------------+------------------------+\n",
            "|    Doutorado|                   2556|      5.2592592592592595|                      20|                       0|\n",
            "|    Graduacao|                   5959|       5.287488908606921|                      20|                       0|\n",
            "|Segundo_ciclo|                   1107|        5.45320197044335|                       9|                       0|\n",
            "|     Mestrado|                   1916|       5.178378378378379|                      17|                       1|\n",
            "|Ensino_basico|                    371|        6.87037037037037|                       9|                       3|\n",
            "+-------------+-----------------------+------------------------+------------------------+------------------------+\n",
            "\n"
          ]
        }
      ]
    },
    {
      "cell_type": "markdown",
      "metadata": {
        "id": "iqJ-lQJASaHi"
      },
      "source": [
        "CARREGAMENTO PARA CSV"
      ]
    },
    {
      "cell_type": "code",
      "metadata": {
        "id": "DTTS98ptSUpb"
      },
      "source": [
        "df6.toPandas().to_csv('campanha_marketing_agregacao_Num_visita_web_Mes.csv', index=False)"
      ],
      "execution_count": null,
      "outputs": []
    },
    {
      "cell_type": "code",
      "metadata": {
        "colab": {
          "base_uri": "https://localhost:8080/"
        },
        "id": "mQmA1rKjIs5O",
        "outputId": "fd3c25b7-8232-4bbf-b77c-0ea8dc938778"
      },
      "source": [
        "#Retorna a ordem pela coluna Renda e Escolaridade\n",
        "df3.orderBy(F.col(\"Renda\"),F.col(\"Escolaridade\")).show(truncate=False)"
      ],
      "execution_count": null,
      "outputs": [
        {
          "output_type": "stream",
          "name": "stdout",
          "text": [
            "+-----+--------------+------------+------------+-----+---------------+-------------------+------------+----------+----------+------------------+------------------+-----------------+-----------------+-------------------+---------------+--------------------+----------------+------------------+----------+\n",
            "|ID   |Ano_nascimento|Escolaridade|Estado_civil|Renda|Crianca_em_casa|Adolescente_em_casa|Data_cliente|Mnt_vinhos|Mnt_frutas|Mnt_produtos_carne|Mnt_produtos_peixe|Mnt_produtos_doce|Mnt_produtos_gold|Num_ofertas_compras|Num_compras_web|Num_compras_catalogo|Num_compras_loja|Num_visita_web_Mes|Reclamacao|\n",
            "+-----+--------------+------------+------------+-----+---------------+-------------------+------------+----------+----------+------------------+------------------+-----------------+-----------------+-------------------+---------------+--------------------+----------------+------------------+----------+\n",
            "|8268 |1961          |Doutorado   |Casado      |null |0              |1                  |2013-07-11  |352       |0         |27                |10                |0                |15               |3                  |6              |1                   |7               |6                 |0         |\n",
            "|7281 |1959          |Doutorado   |Solteiro    |null |0              |0                  |2013-11-05  |81        |11        |50                |3                 |2                |39               |1                  |1              |3                   |4               |2                 |0         |\n",
            "|3769 |1972          |Doutorado   |Juntos      |null |1              |0                  |2014-03-02  |25        |1         |13                |0                 |0                |3                |1                  |1              |0                   |3               |7                 |0         |\n",
            "|8996 |1957          |Doutorado   |Casado      |null |2              |1                  |2012-11-19  |230       |42        |192               |49                |37               |53               |12                 |7              |2                   |8               |9                 |0         |\n",
            "|1612 |1981          |Doutorado   |Solteiro    |null |1              |0                  |2013-05-31  |23        |0         |15                |0                 |2                |7                |2                  |3              |0                   |3               |6                 |0         |\n",
            "|1994 |1983          |Graduacao   |Casado      |null |1              |0                  |2013-11-15  |5         |5         |6                 |0                 |2                |1                |1                  |1              |0                   |2               |7                 |0         |\n",
            "|2437 |1989          |Graduacao   |Casado      |null |0              |0                  |2013-06-03  |861       |138       |461               |60                |30               |61               |1                  |6              |5                   |12              |3                 |0         |\n",
            "|2902 |1958          |Graduacao   |Juntos      |null |1              |1                  |2012-09-03  |19        |4         |12                |2                 |2                |6                |1                  |1              |0                   |3               |5                 |0         |\n",
            "|8557 |1982          |Graduacao   |Solteiro    |null |1              |0                  |2013-06-17  |11        |3         |22                |2                 |2                |6                |2                  |2              |0                   |3               |6                 |0         |\n",
            "|9235 |1957          |Graduacao   |Solteiro    |null |1              |1                  |2014-05-27  |7         |0         |8                 |2                 |0                |1                |1                  |1              |0                   |2               |7                 |0         |\n",
            "|1295 |1963          |Graduacao   |Casado      |null |0              |1                  |2013-08-11  |231       |65        |196               |38                |71               |124              |1                  |6              |5                   |7               |4                 |0         |\n",
            "|2863 |1970          |Graduacao   |Solteiro    |null |1              |2                  |2013-08-23  |738       |20        |172               |52                |50               |20               |6                  |2              |3                   |10              |7                 |0         |\n",
            "|5079 |1971          |Graduacao   |Casado      |null |1              |1                  |2013-03-03  |71        |1         |16                |0                 |0                |9                |4                  |2              |1                   |3               |8                 |0         |\n",
            "|3117 |1955          |Graduacao   |Solteiro    |null |0              |1                  |2013-10-18  |264       |0         |21                |12                |6                |147              |3                  |6              |1                   |5               |7                 |0         |\n",
            "|7244 |1951          |Graduacao   |Solteiro    |null |2              |1                  |2014-01-01  |48        |5         |48                |6                 |10               |7                |3                  |2              |1                   |4               |6                 |0         |\n",
            "|5255 |1986          |Graduacao   |Solteiro    |null |1              |0                  |2013-02-20  |5         |1         |3                 |3                 |263              |362              |0                  |27             |0                   |0               |1                 |0         |\n",
            "|5798 |1973          |Mestrado    |Juntos      |null |0              |0                  |2013-11-23  |445       |37        |359               |98                |28               |18               |1                  |2              |4                   |8               |1                 |0         |\n",
            "|10475|1970          |Mestrado    |Juntos      |null |0              |1                  |2013-04-01  |187       |5         |65                |26                |20               |14               |2                  |4              |2                   |6               |5                 |0         |\n",
            "|7187 |1969          |Mestrado    |Juntos      |null |1              |1                  |2013-05-18  |375       |42        |48                |94                |66               |96               |7                  |4              |10                  |4               |3                 |0         |\n",
            "|10339|1954          |Mestrado    |Juntos      |null |0              |1                  |2013-06-23  |161       |0         |22                |0                 |0                |24               |2                  |4              |1                   |4               |6                 |0         |\n",
            "+-----+--------------+------------+------------+-----+---------------+-------------------+------------+----------+----------+------------------+------------------+-----------------+-----------------+-------------------+---------------+--------------------+----------------+------------------+----------+\n",
            "only showing top 20 rows\n",
            "\n"
          ]
        }
      ]
    },
    {
      "cell_type": "code",
      "metadata": {
        "colab": {
          "base_uri": "https://localhost:8080/"
        },
        "id": "WPLsYCLCHnZg",
        "outputId": "5f88d2c3-fc61-4b89-e343-cd94f893b163"
      },
      "source": [
        "#Retorna o ordenamento descendente pela renda\n",
        "df3.orderBy(F.col(\"Renda\").desc()).show(truncate=False)"
      ],
      "execution_count": null,
      "outputs": [
        {
          "output_type": "stream",
          "name": "stdout",
          "text": [
            "+-----+--------------+-------------+------------+--------+---------------+-------------------+------------+----------+----------+------------------+------------------+-----------------+-----------------+-------------------+---------------+--------------------+----------------+------------------+----------+\n",
            "|ID   |Ano_nascimento|Escolaridade |Estado_civil|Renda   |Crianca_em_casa|Adolescente_em_casa|Data_cliente|Mnt_vinhos|Mnt_frutas|Mnt_produtos_carne|Mnt_produtos_peixe|Mnt_produtos_doce|Mnt_produtos_gold|Num_ofertas_compras|Num_compras_web|Num_compras_catalogo|Num_compras_loja|Num_visita_web_Mes|Reclamacao|\n",
            "+-----+--------------+-------------+------------+--------+---------------+-------------------+------------+----------+----------+------------------+------------------+-----------------+-----------------+-------------------+---------------+--------------------+----------------+------------------+----------+\n",
            "|9432 |1977          |Graduacao    |Juntos      |666666.0|1              |0                  |2013-06-02  |9         |14        |18                |8                 |1                |12               |4                  |3              |1                   |3               |6                 |0         |\n",
            "|1503 |1976          |Doutorado    |Juntos      |162397.0|1              |1                  |2013-06-03  |85        |1         |16                |2                 |1                |2                |0                  |0              |0                   |1               |1                 |0         |\n",
            "|1501 |1982          |Doutorado    |Casado      |160803.0|0              |0                  |2012-08-04  |55        |16        |1622              |17                |3                |4                |15                 |0              |28                  |1               |0                 |0         |\n",
            "|5336 |1971          |Mestrado     |Juntos      |157733.0|1              |0                  |2013-06-04  |39        |1         |9                 |2                 |0                |8                |0                  |1              |0                   |1               |1                 |0         |\n",
            "|8475 |1973          |Doutorado    |Casado      |157243.0|0              |1                  |2014-03-01  |20        |2         |1582              |1                 |2                |1                |15                 |0              |22                  |0               |0                 |0         |\n",
            "|4931 |1977          |Graduacao    |Juntos      |157146.0|0              |0                  |2013-04-29  |1         |0         |1725              |2                 |1                |1                |0                  |0              |28                  |0               |1                 |0         |\n",
            "|11181|1949          |Doutorado    |Casado      |156924.0|0              |0                  |2013-08-29  |2         |1         |2                 |1                 |1                |1                |0                  |0              |0                   |0               |0                 |0         |\n",
            "|5555 |1975          |Graduacao    |Divorciado  |153924.0|0              |0                  |2014-02-07  |1         |1         |1                 |1                 |1                |1                |0                  |0              |0                   |0               |0                 |0         |\n",
            "|4619 |1945          |Doutorado    |Solteiro    |113734.0|0              |0                  |2014-05-28  |6         |2         |3                 |1                 |262              |3                |0                  |27             |0                   |0               |1                 |0         |\n",
            "|4611 |1970          |Graduacao    |Juntos      |105471.0|0              |0                  |2013-01-21  |1009      |181       |104               |202               |21               |207              |0                  |9              |8                   |13              |3                 |0         |\n",
            "|10089|1974          |Graduacao    |Divorciado  |102692.0|0              |0                  |2013-04-05  |168       |148       |444               |32                |172              |148              |1                  |6              |9                   |13              |2                 |0         |\n",
            "|2798 |1977          |Doutorado    |Juntos      |102160.0|0              |0                  |2012-11-02  |763       |29        |138               |76                |176              |58               |0                  |7              |9                   |10              |4                 |0         |\n",
            "|7215 |1983          |Graduacao    |Solteiro    |101970.0|0              |0                  |2013-03-12  |722       |27        |102               |44                |72               |168              |0                  |6              |8                   |13              |2                 |0         |\n",
            "|7451 |1960          |Mestrado     |Solteiro    |98777.0 |0              |0                  |2014-02-17  |1000      |19        |711               |125               |115              |38               |0                  |4              |6                   |9               |1                 |0         |\n",
            "|4248 |1960          |Mestrado     |Solteiro    |98777.0 |0              |0                  |2014-02-17  |1000      |19        |711               |125               |115              |38               |0                  |4              |6                   |9               |1                 |0         |\n",
            "|500  |1977          |Graduacao    |Juntos      |96876.0 |0              |0                  |2013-08-06  |908       |43        |735               |40                |194              |21               |1                  |7              |7                   |9               |2                 |0         |\n",
            "|2109 |1990          |Graduacao    |Solteiro    |96843.0 |0              |0                  |2013-04-23  |448       |71        |951               |40                |17               |17               |1                  |6              |11                  |10              |2                 |0         |\n",
            "|6815 |1980          |Segundo_ciclo|Casado      |96547.0 |0              |0                  |2014-05-23  |448       |21        |125               |52                |101              |62               |0                  |7              |6                   |8               |2                 |0         |\n",
            "|10619|1994          |Graduacao    |Solteiro    |95529.0 |0              |0                  |2012-12-03  |770       |29        |890               |250               |27               |24               |1                  |7              |3                   |7               |3                 |0         |\n",
            "|7962 |1987          |Doutorado    |Solteiro    |95169.0 |0              |0                  |2013-10-09  |1285      |21        |449               |106               |20               |20               |1                  |4              |3                   |4               |1                 |0         |\n",
            "+-----+--------------+-------------+------------+--------+---------------+-------------------+------------+----------+----------+------------------+------------------+-----------------+-----------------+-------------------+---------------+--------------------+----------------+------------------+----------+\n",
            "only showing top 20 rows\n",
            "\n"
          ]
        }
      ]
    },
    {
      "cell_type": "code",
      "metadata": {
        "id": "DowqVMt5J6rH"
      },
      "source": [
        "#Criação de um ranking de Escolaridade por ordem de renda \n",
        "w0 = Window.partitionBy(F.col(\"Escolaridade\")).orderBy(\"Renda\")\n",
        "df7 = df3.withColumn(\"row_number\", F.row_number().over(w0))"
      ],
      "execution_count": null,
      "outputs": []
    },
    {
      "cell_type": "code",
      "metadata": {
        "id": "bLesWMDLTPFi"
      },
      "source": [
        "df7.toPandas().to_csv('campanha_marketing_ranking.csv', index=False)"
      ],
      "execution_count": null,
      "outputs": []
    },
    {
      "cell_type": "code",
      "metadata": {
        "colab": {
          "base_uri": "https://localhost:8080/"
        },
        "id": "fALMk7MZMcpC",
        "outputId": "c5c1b7fb-7cfe-4441-b0ef-f655ae7dcdb1"
      },
      "source": [
        "#Criação de um ranking sem lacunas para Escolaridade por ordem de renda .\n",
        "df3.withColumn(\"dense_rank\", F.dense_rank().over(w0)).show()"
      ],
      "execution_count": null,
      "outputs": [
        {
          "output_type": "stream",
          "name": "stdout",
          "text": [
            "+-----+--------------+------------+------------+-------+---------------+-------------------+------------+----------+----------+------------------+------------------+-----------------+-----------------+-------------------+---------------+--------------------+----------------+------------------+----------+----------+\n",
            "|   ID|Ano_nascimento|Escolaridade|Estado_civil|  Renda|Crianca_em_casa|Adolescente_em_casa|Data_cliente|Mnt_vinhos|Mnt_frutas|Mnt_produtos_carne|Mnt_produtos_peixe|Mnt_produtos_doce|Mnt_produtos_gold|Num_ofertas_compras|Num_compras_web|Num_compras_catalogo|Num_compras_loja|Num_visita_web_Mes|Reclamacao|dense_rank|\n",
            "+-----+--------------+------------+------------+-------+---------------+-------------------+------------+----------+----------+------------------+------------------+-----------------+-----------------+-------------------+---------------+--------------------+----------------+------------------+----------+----------+\n",
            "| 7281|          1959|   Doutorado|    Solteiro|   null|              0|                  0|  2013-11-05|        81|        11|                50|                 3|                2|               39|                  1|              1|                   3|               4|                 2|         0|         1|\n",
            "| 8996|          1957|   Doutorado|      Casado|   null|              2|                  1|  2012-11-19|       230|        42|               192|                49|               37|               53|                 12|              7|                   2|               8|                 9|         0|         1|\n",
            "| 8268|          1961|   Doutorado|      Casado|   null|              0|                  1|  2013-07-11|       352|         0|                27|                10|                0|               15|                  3|              6|                   1|               7|                 6|         0|         1|\n",
            "| 3769|          1972|   Doutorado|      Juntos|   null|              1|                  0|  2014-03-02|        25|         1|                13|                 0|                0|                3|                  1|              1|                   0|               3|                 7|         0|         1|\n",
            "| 1612|          1981|   Doutorado|    Solteiro|   null|              1|                  0|  2013-05-31|        23|         0|                15|                 0|                2|                7|                  2|              3|                   0|               3|                 6|         0|         1|\n",
            "| 9931|          1963|   Doutorado|      Casado| 4023.0|              1|                  1|  2014-06-23|         5|         0|                 1|                 1|                1|                1|                 15|              0|                   0|               0|                19|         0|         2|\n",
            "| 5899|          1950|   Doutorado|      Juntos| 5648.0|              1|                  1|  2014-03-13|        28|         0|                 6|                 1|                1|               13|                  1|              1|                   0|               0|                20|         0|         3|\n",
            "| 4303|          1957|   Doutorado|      Juntos| 6835.0|              0|                  1|  2012-12-08|       107|         2|                12|                 2|                2|               12|                  0|              0|                   0|               1|                20|         0|         4|\n",
            "| 6237|          1966|   Doutorado|    Solteiro| 7144.0|              0|                  2|  2013-12-07|        81|         4|                33|                 5|                2|              291|                  0|             23|                   1|               1|                 0|         0|         5|\n",
            "| 5835|          1976|   Doutorado|  Divorciado|14849.0|              1|                  0|  2013-07-02|        21|         2|                28|                 3|                2|                9|                  3|              2|                   0|               4|                 8|         0|         6|\n",
            "|11010|          1984|   Doutorado|    Solteiro|16269.0|              1|                  0|  2013-08-30|        19|         3|                18|                 3|                1|                0|                  3|              3|                   0|               3|                 8|         0|         7|\n",
            "|10031|          1976|   Doutorado|      Casado|16927.0|              1|                  1|  2013-02-10|        20|         2|                23|                 3|                1|                4|                  5|              3|                   0|               4|                 8|         0|         8|\n",
            "|10790|          1985|   Doutorado|      Casado|18169.0|              1|                  0|  2013-02-19|         9|         0|                 5|                 0|                0|                7|                  1|              1|                   0|               2|                 8|         0|         9|\n",
            "| 4329|          1984|   Doutorado|      Casado|18988.0|              1|                  0|  2014-05-23|         6|         0|                 6|                 2|                1|                1|                  2|              1|                   0|               3|                 7|         0|        10|\n",
            "| 4298|          1973|   Doutorado|      Juntos|20427.0|              1|                  0|  2014-03-24|         5|         0|                 4|                 0|                0|                1|                  1|              1|                   0|               2|                 8|         0|        11|\n",
            "| 2549|          1983|   Doutorado|      Juntos|21840.0|              1|                  0|  2013-07-21|        17|         0|                 9|                 0|                0|                1|                  1|              1|                   0|               3|                 9|         0|        12|\n",
            "| 2156|          1955|   Doutorado|      Casado|22554.0|              1|                  1|  2012-11-03|        27|         0|                10|                 0|                0|                4|                  4|              2|                   0|               4|                 5|         0|        13|\n",
            "|  213|          1963|   Doutorado|    Solteiro|23091.0|              1|                  1|  2014-05-28|        35|         0|                11|                 0|                0|                2|                  4|              2|                   1|               3|                 7|         0|        14|\n",
            "| 7788|          1983|   Doutorado|      Casado|23536.0|              1|                  0|  2014-06-04|         6|         0|                 3|                 0|                0|                1|                  1|              0|                   0|               3|                 3|         0|        15|\n",
            "| 2230|          1970|   Doutorado|      Casado|23626.0|              1|                  0|  2014-05-24|        27|         2|                14|                 0|                0|                0|                  3|              3|                   1|               3|                 5|         0|        16|\n",
            "+-----+--------------+------------+------------+-------+---------------+-------------------+------------+----------+----------+------------------+------------------+-----------------+-----------------+-------------------+---------------+--------------------+----------------+------------------+----------+----------+\n",
            "only showing top 20 rows\n",
            "\n"
          ]
        }
      ]
    },
    {
      "cell_type": "markdown",
      "metadata": {
        "id": "cLrD0uWpQCvf"
      },
      "source": [
        "SPARKSQL"
      ]
    },
    {
      "cell_type": "code",
      "metadata": {
        "id": "fjRSS8t9PBMD"
      },
      "source": [
        "#Cria uma visão temporária local \n",
        "df3.createOrReplaceTempView(\"tabela_campanha_marketing\")"
      ],
      "execution_count": null,
      "outputs": []
    },
    {
      "cell_type": "code",
      "metadata": {
        "colab": {
          "base_uri": "https://localhost:8080/"
        },
        "id": "rpQlC6DZSt_K",
        "outputId": "a6191f13-7c62-4673-aca5-7889e76cb22b"
      },
      "source": [
        "#1ª consulta tem a função de retornar todos os dados da tabelaNum_visita_web_Mes\n",
        "spark.sql(\"SELECT * FROM tabela_campanha_marketing\").show(10)"
      ],
      "execution_count": null,
      "outputs": [
        {
          "output_type": "stream",
          "name": "stdout",
          "text": [
            "+----+--------------+------------+------------+-------+---------------+-------------------+------------+----------+----------+------------------+------------------+-----------------+-----------------+-------------------+---------------+--------------------+----------------+------------------+----------+\n",
            "|  ID|Ano_nascimento|Escolaridade|Estado_civil|  Renda|Crianca_em_casa|Adolescente_em_casa|Data_cliente|Mnt_vinhos|Mnt_frutas|Mnt_produtos_carne|Mnt_produtos_peixe|Mnt_produtos_doce|Mnt_produtos_gold|Num_ofertas_compras|Num_compras_web|Num_compras_catalogo|Num_compras_loja|Num_visita_web_Mes|Reclamacao|\n",
            "+----+--------------+------------+------------+-------+---------------+-------------------+------------+----------+----------+------------------+------------------+-----------------+-----------------+-------------------+---------------+--------------------+----------------+------------------+----------+\n",
            "|5524|          1957|   Graduacao|    Solteiro|58138.0|              0|                  0|  2012-09-04|       635|        88|               546|               172|               88|               88|                  3|              8|                  10|               4|                 7|         0|\n",
            "|2174|          1954|   Graduacao|    Solteiro|46344.0|              1|                  1|  2014-03-08|        11|         1|                 6|                 2|                1|                6|                  2|              1|                   1|               2|                 5|         0|\n",
            "|4141|          1965|   Graduacao|      Juntos|71613.0|              0|                  0|  2013-08-21|       426|        49|               127|               111|               21|               42|                  1|              8|                   2|              10|                 4|         0|\n",
            "|6182|          1984|   Graduacao|      Juntos|26646.0|              1|                  0|  2014-02-10|        11|         4|                20|                10|                3|                5|                  2|              2|                   0|               4|                 6|         0|\n",
            "|5324|          1981|   Doutorado|      Casado|58293.0|              1|                  0|  2014-01-19|       173|        43|               118|                46|               27|               15|                  5|              5|                   3|               6|                 5|         0|\n",
            "|7446|          1967|    Mestrado|      Juntos|62513.0|              0|                  1|  2013-09-09|       520|        42|                98|                 0|               42|               14|                  2|              6|                   4|              10|                 6|         0|\n",
            "| 965|          1971|   Graduacao|  Divorciado|55635.0|              0|                  1|  2012-11-13|       235|        65|               164|                50|               49|               27|                  4|              7|                   3|               7|                 6|         0|\n",
            "|6177|          1985|   Doutorado|      Casado|33454.0|              1|                  0|  2013-05-08|        76|        10|                56|                 3|                1|               23|                  2|              4|                   0|               4|                 8|         0|\n",
            "|4855|          1974|   Doutorado|      Juntos|30351.0|              1|                  0|  2013-06-06|        14|         0|                24|                 3|                3|                2|                  1|              3|                   0|               2|                 9|         0|\n",
            "|5899|          1950|   Doutorado|      Juntos| 5648.0|              1|                  1|  2014-03-13|        28|         0|                 6|                 1|                1|               13|                  1|              1|                   0|               0|                20|         0|\n",
            "+----+--------------+------------+------------+-------+---------------+-------------------+------------+----------+----------+------------------+------------------+-----------------+-----------------+-------------------+---------------+--------------------+----------------+------------------+----------+\n",
            "only showing top 10 rows\n",
            "\n"
          ]
        }
      ]
    },
    {
      "cell_type": "code",
      "metadata": {
        "colab": {
          "base_uri": "https://localhost:8080/"
        },
        "id": "lZ8mH1-MUqOs",
        "outputId": "c5627b03-068b-4760-9f62-7ef5bda467ca"
      },
      "source": [
        "#2ª consulta tem a função de retornar as colunas Escolaridade e Num_visita_web_Mes da tabelaNum_visita_web_Mes para especificar a consulta \n",
        "spark.sql(\"SELECT Escolaridade, Num_visita_web_Mes FROM tabela_campanha_marketing\").show(10)"
      ],
      "execution_count": null,
      "outputs": [
        {
          "output_type": "stream",
          "name": "stdout",
          "text": [
            "+------------+------------------+\n",
            "|Escolaridade|Num_visita_web_Mes|\n",
            "+------------+------------------+\n",
            "|   Graduacao|                 7|\n",
            "|   Graduacao|                 5|\n",
            "|   Graduacao|                 4|\n",
            "|   Graduacao|                 6|\n",
            "|   Doutorado|                 5|\n",
            "|    Mestrado|                 6|\n",
            "|   Graduacao|                 6|\n",
            "|   Doutorado|                 8|\n",
            "|   Doutorado|                 9|\n",
            "|   Doutorado|                20|\n",
            "+------------+------------------+\n",
            "only showing top 10 rows\n",
            "\n"
          ]
        }
      ]
    },
    {
      "cell_type": "code",
      "metadata": {
        "id": "XJwfVRvNadr-",
        "colab": {
          "base_uri": "https://localhost:8080/"
        },
        "outputId": "467def0d-5682-42ed-c8bd-2a5a887bf192"
      },
      "source": [
        "#3ª consulta tem a função de fazer a contagem de Crianca_em_casa da tabela_campanha_marketing agrupado em Escolaridade\n",
        "spark.sql(\"SELECT Escolaridade, COUNT(Crianca_em_casa) AS Qtd_Crianca_em_casa FROM tabela_campanha_marketing GROUP BY Escolaridade\").show()"
      ],
      "execution_count": null,
      "outputs": [
        {
          "output_type": "stream",
          "name": "stdout",
          "text": [
            "+-------------+-------------------+\n",
            "| Escolaridade|Qtd_Crianca_em_casa|\n",
            "+-------------+-------------------+\n",
            "|    Doutorado|                486|\n",
            "|    Graduacao|               1127|\n",
            "|Segundo_ciclo|                203|\n",
            "|     Mestrado|                370|\n",
            "|Ensino_basico|                 54|\n",
            "+-------------+-------------------+\n",
            "\n"
          ]
        }
      ]
    },
    {
      "cell_type": "code",
      "metadata": {
        "colab": {
          "base_uri": "https://localhost:8080/"
        },
        "id": "w_e_6G6ZcHVQ",
        "outputId": "acddc9fe-6759-44d2-af67-5cac26a68f98"
      },
      "source": [
        "#4ª consulta tem a função de retornar as colunas ID, Escolaridade, Data_cliente, Num_compras_web da tabela_campanha_marketing onde Num_compras_web seja maior do que 5\n",
        "spark.sql(\"SELECT ID, Escolaridade, Data_cliente, Num_compras_web FROM tabela_campanha_marketing WHERE Num_compras_web > 5\").show()"
      ],
      "execution_count": null,
      "outputs": [
        {
          "output_type": "stream",
          "name": "stdout",
          "text": [
            "+----+-------------+------------+---------------+\n",
            "|  ID| Escolaridade|Data_cliente|Num_compras_web|\n",
            "+----+-------------+------------+---------------+\n",
            "|5524|    Graduacao|  2012-09-04|              8|\n",
            "|4141|    Graduacao|  2013-08-21|              8|\n",
            "|7446|     Mestrado|  2013-09-09|              6|\n",
            "| 965|    Graduacao|  2012-11-13|              7|\n",
            "|8180|     Mestrado|  2013-11-15|              6|\n",
            "|2114|    Doutorado|  2012-11-24|              7|\n",
            "|6565|     Mestrado|  2013-03-28|             11|\n",
            "|4047|    Doutorado|  2014-01-11|              6|\n",
            "|1409|    Graduacao|  2013-03-18|              7|\n",
            "|5255|    Graduacao|  2013-02-20|             27|\n",
            "|1966|    Doutorado|  2013-11-22|              6|\n",
            "|2968|    Doutorado|  2013-02-01|              7|\n",
            "|8601|    Graduacao|  2013-04-29|              8|\n",
            "|4114|     Mestrado|  2012-08-11|              6|\n",
            "|8375|    Doutorado|  2014-03-03|              8|\n",
            "|1012|    Graduacao|  2013-02-18|              8|\n",
            "|6518|    Doutorado|  2013-06-11|              7|\n",
            "|4137|    Graduacao|  2013-12-06|              7|\n",
            "|9369|Segundo_ciclo|  2014-03-19|             11|\n",
            "|6312|    Graduacao|  2013-03-17|             10|\n",
            "+----+-------------+------------+---------------+\n",
            "only showing top 20 rows\n",
            "\n"
          ]
        }
      ]
    },
    {
      "cell_type": "code",
      "metadata": {
        "colab": {
          "base_uri": "https://localhost:8080/"
        },
        "id": "_PfyRUq5F3kd",
        "outputId": "a4d74db7-b42a-4745-f235-b215d5317276"
      },
      "source": [
        "#5ª consulta tem a função de retornar as colunas ID, Escolaridade, Data_cliente, Num_compras_web da tabela_campanha_marketing onde Num_compras_web esteja entre entre 5 e 15\n",
        "spark.sql(\"SELECT ID, Escolaridade, Data_cliente, Num_compras_web FROM tabela_campanha_marketing  WHERE Num_compras_web BETWEEN 5 AND 15\").show()"
      ],
      "execution_count": null,
      "outputs": [
        {
          "output_type": "stream",
          "name": "stdout",
          "text": [
            "+-----+------------+------------+---------------+\n",
            "|   ID|Escolaridade|Data_cliente|Num_compras_web|\n",
            "+-----+------------+------------+---------------+\n",
            "| 5524|   Graduacao|  2012-09-04|              8|\n",
            "| 4141|   Graduacao|  2013-08-21|              8|\n",
            "| 5324|   Doutorado|  2014-01-19|              5|\n",
            "| 7446|    Mestrado|  2013-09-09|              6|\n",
            "|  965|   Graduacao|  2012-11-13|              7|\n",
            "| 8180|    Mestrado|  2013-11-15|              6|\n",
            "| 2114|   Doutorado|  2012-11-24|              7|\n",
            "| 6565|    Mestrado|  2013-03-28|             11|\n",
            "| 4047|   Doutorado|  2014-01-11|              6|\n",
            "| 1409|   Graduacao|  2013-03-18|              7|\n",
            "| 2404|   Graduacao|  2013-05-27|              5|\n",
            "| 1966|   Doutorado|  2013-11-22|              6|\n",
            "| 4339|   Doutorado|  2013-12-31|              5|\n",
            "| 2968|   Doutorado|  2013-02-01|              7|\n",
            "| 8601|   Graduacao|  2013-04-29|              8|\n",
            "| 6566|   Doutorado|  2012-11-08|              5|\n",
            "| 4114|    Mestrado|  2012-08-11|              6|\n",
            "|10383|   Graduacao|  2013-04-02|              5|\n",
            "| 8375|   Doutorado|  2014-03-03|              8|\n",
            "| 1012|   Graduacao|  2013-02-18|              8|\n",
            "+-----+------------+------------+---------------+\n",
            "only showing top 20 rows\n",
            "\n"
          ]
        }
      ]
    },
    {
      "cell_type": "code",
      "metadata": {
        "colab": {
          "base_uri": "https://localhost:8080/"
        },
        "id": "KYkwFd9nFzfx",
        "outputId": "bfa90ac9-be5a-4512-e1fd-e828a50c5c8b"
      },
      "source": [
        "#6ª consulta tem a função de retornar as colunas ID, Escolaridade, Data_cliente da tabela_campanha_marketing e ordenar a  Data_cliente descrecente\n",
        "spark.sql(\"SELECT ID, Escolaridade, Data_cliente  FROM tabela_campanha_marketing ORDER BY Data_cliente  DESC\").show()"
      ],
      "execution_count": null,
      "outputs": [
        {
          "output_type": "stream",
          "name": "stdout",
          "text": [
            "+-----+------------+------------+\n",
            "|   ID|Escolaridade|Data_cliente|\n",
            "+-----+------------+------------+\n",
            "| 7300|   Graduacao|  2014-06-29|\n",
            "|  453|   Doutorado|  2014-06-29|\n",
            "| 1371|   Graduacao|  2014-06-28|\n",
            "| 6722|   Doutorado|  2014-06-28|\n",
            "| 8093|    Mestrado|  2014-06-28|\n",
            "| 4472|   Doutorado|  2014-06-27|\n",
            "| 2471|   Graduacao|  2014-06-27|\n",
            "| 2831|   Graduacao|  2014-06-27|\n",
            "| 9014|   Graduacao|  2014-06-26|\n",
            "| 7059|   Graduacao|  2014-06-26|\n",
            "| 1225|   Graduacao|  2014-06-26|\n",
            "| 6382|   Graduacao|  2014-06-26|\n",
            "| 5633|   Graduacao|  2014-06-25|\n",
            "| 3267|    Mestrado|  2014-06-25|\n",
            "| 9888|   Graduacao|  2014-06-25|\n",
            "| 4399|   Graduacao|  2014-06-25|\n",
            "| 1448|    Mestrado|  2014-06-25|\n",
            "|10492|   Graduacao|  2014-06-24|\n",
            "| 4550|    Mestrado|  2014-06-24|\n",
            "| 2781|   Graduacao|  2014-06-23|\n",
            "+-----+------------+------------+\n",
            "only showing top 20 rows\n",
            "\n"
          ]
        }
      ]
    },
    {
      "cell_type": "code",
      "metadata": {
        "colab": {
          "base_uri": "https://localhost:8080/"
        },
        "id": "UeH_XecXGA5V",
        "outputId": "b7a4129e-1253-4516-ed31-703a30cc0b3c"
      },
      "source": [
        "#7ª consulta tem a função de retornar as colunas ID, Escolaridade, Data_cliente, Ano_nascimento da tabela_campanha_marketing e encontrar em Ano_nascimento os anos que terminam em 94\n",
        "spark.sql(\"SELECT ID, Escolaridade, Data_cliente, Ano_nascimento FROM tabela_campanha_marketing WHERE Ano_nascimento LIKE '%94'\").show(10)"
      ],
      "execution_count": null,
      "outputs": [
        {
          "output_type": "stream",
          "name": "stdout",
          "text": [
            "+-----+------------+------------+--------------+\n",
            "|   ID|Escolaridade|Data_cliente|Ano_nascimento|\n",
            "+-----+------------+------------+--------------+\n",
            "| 5067|   Graduacao|  2014-02-14|          1994|\n",
            "|10619|   Graduacao|  2012-12-03|          1994|\n",
            "| 6905|   Graduacao|  2012-08-22|          1994|\n",
            "+-----+------------+------------+--------------+\n",
            "\n"
          ]
        }
      ]
    },
    {
      "cell_type": "code",
      "metadata": {
        "colab": {
          "base_uri": "https://localhost:8080/"
        },
        "id": "t-cjIrVtGBs3",
        "outputId": "6baf304a-3f55-4747-8583-9741cfcab1a7"
      },
      "source": [
        "#8ª consulta tem a função de de retornar o maior valor da coluna Mnt_produtos_gold da tabela_campanha_marketing\n",
        "spark.sql(\"SELECT MAX (Mnt_produtos_gold) FROM tabela_campanha_marketing\").show()"
      ],
      "execution_count": null,
      "outputs": [
        {
          "output_type": "stream",
          "name": "stdout",
          "text": [
            "+----------------------+\n",
            "|max(Mnt_produtos_gold)|\n",
            "+----------------------+\n",
            "|                   362|\n",
            "+----------------------+\n",
            "\n"
          ]
        }
      ]
    },
    {
      "cell_type": "code",
      "metadata": {
        "colab": {
          "base_uri": "https://localhost:8080/"
        },
        "id": "8Mai40bmJszm",
        "outputId": "37557661-e257-4913-ce24-272a076aa0cb"
      },
      "source": [
        "#9ª consulta tem a função de de retornar o menor valor da coluna Mnt_produtos_gold da tabela_campanha_marketing\n",
        "spark.sql(\"SELECT MIN (Mnt_produtos_gold) FROM tabela_campanha_marketing\").show()"
      ],
      "execution_count": null,
      "outputs": [
        {
          "output_type": "stream",
          "name": "stdout",
          "text": [
            "+----------------------+\n",
            "|min(Mnt_produtos_gold)|\n",
            "+----------------------+\n",
            "|                     0|\n",
            "+----------------------+\n",
            "\n"
          ]
        }
      ]
    },
    {
      "cell_type": "code",
      "metadata": {
        "colab": {
          "base_uri": "https://localhost:8080/"
        },
        "id": "QaHCNPCQJ_az",
        "outputId": "779d7f2c-00bc-4b74-cd90-b4fe061058f8"
      },
      "source": [
        "#10ª consulta tem a função de de retornar a média dos valores da coluna Mnt_produtos_gold da tabela_campanha_marketing\n",
        "spark.sql(\"SELECT AVG (Mnt_produtos_gold) FROM tabela_campanha_marketing\").show()"
      ],
      "execution_count": null,
      "outputs": [
        {
          "output_type": "stream",
          "name": "stdout",
          "text": [
            "+----------------------+\n",
            "|avg(Mnt_produtos_gold)|\n",
            "+----------------------+\n",
            "|             44.021875|\n",
            "+----------------------+\n",
            "\n"
          ]
        }
      ]
    }
  ]
}